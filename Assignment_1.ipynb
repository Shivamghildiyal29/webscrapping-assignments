{
 "cells": [
  {
   "cell_type": "code",
   "execution_count": 1,
   "metadata": {},
   "outputs": [],
   "source": [
    "from bs4 import BeautifulSoup\n",
    "import requests\n",
    "import pandas as pd\n",
    "import re\n",
    "import time\n",
    "import numpy as np"
   ]
  },
  {
   "cell_type": "code",
   "execution_count": 2,
   "metadata": {},
   "outputs": [],
   "source": [
    "#setting up selenium chrome driver:\n",
    "import selenium \n",
    "from selenium import webdriver\n",
    "driver=webdriver.Chrome(executable_path= r\"C:\\Users\\Shivam Ghildiyal\\drivers\\chromedriver.exe\")"
   ]
  },
  {
   "cell_type": "markdown",
   "metadata": {},
   "source": [
    "#### 1.  python program to display all the header tags from ‘en.wikipedia.org/wiki/Main_Page’."
   ]
  },
  {
   "cell_type": "code",
   "execution_count": 3,
   "metadata": {},
   "outputs": [],
   "source": [
    "page = requests.get('https://en.wikipedia.org/wiki/Main_Page')\n",
    "soup = BeautifulSoup(page.content, 'html.parser')"
   ]
  },
  {
   "cell_type": "code",
   "execution_count": 4,
   "metadata": {},
   "outputs": [],
   "source": [
    "title = soup.find_all(['h1', 'h2', 'h3'])"
   ]
  },
  {
   "cell_type": "code",
   "execution_count": 5,
   "metadata": {},
   "outputs": [
    {
     "name": "stdout",
     "output_type": "stream",
     "text": [
      "Main Page\n",
      "From today's featured article\n",
      "Did you know ...\n",
      "In the news\n",
      "On this day\n",
      "Today's featured picture\n",
      "Other areas of Wikipedia\n",
      "Wikipedia's sister projects\n",
      "Wikipedia languages\n",
      "Navigation menu\n",
      "\n",
      "Personal tools\n",
      "\n",
      "\n",
      "Namespaces\n",
      "\n",
      "\n",
      "Variants\n",
      "\n",
      "\n",
      "Views\n",
      "\n",
      "\n",
      "More\n",
      "\n",
      "\n",
      "Search\n",
      "\n",
      "\n",
      "Navigation\n",
      "\n",
      "\n",
      "Contribute\n",
      "\n",
      "\n",
      "Tools\n",
      "\n",
      "\n",
      "Print/export\n",
      "\n",
      "\n",
      "In other projects\n",
      "\n",
      "\n",
      "Languages\n",
      "\n"
     ]
    }
   ],
   "source": [
    "titles = []\n",
    "for i in title:\n",
    "    print(i.get_text())\n",
    "    titles.append(i.get_text().replace('\\n', ''))"
   ]
  },
  {
   "cell_type": "code",
   "execution_count": 6,
   "metadata": {},
   "outputs": [
    {
     "data": {
      "text/plain": [
       "['Main Page',\n",
       " \"From today's featured article\",\n",
       " 'Did you know\\xa0...',\n",
       " 'In the news',\n",
       " 'On this day',\n",
       " \"Today's featured picture\",\n",
       " 'Other areas of Wikipedia',\n",
       " \"Wikipedia's sister projects\",\n",
       " 'Wikipedia languages',\n",
       " 'Navigation menu',\n",
       " 'Personal tools',\n",
       " 'Namespaces',\n",
       " 'Variants',\n",
       " 'Views',\n",
       " 'More',\n",
       " 'Search',\n",
       " 'Navigation',\n",
       " 'Contribute',\n",
       " 'Tools',\n",
       " 'Print/export',\n",
       " 'In other projects',\n",
       " 'Languages']"
      ]
     },
     "execution_count": 6,
     "metadata": {},
     "output_type": "execute_result"
    }
   ],
   "source": [
    "titles"
   ]
  },
  {
   "cell_type": "markdown",
   "metadata": {},
   "source": [
    "#### 2. Python program to display IMDB’s Top rated 100 movies’ data (i.e. Name, IMDB rating, Year of release) and save it in form of a CSV file."
   ]
  },
  {
   "cell_type": "code",
   "execution_count": 7,
   "metadata": {},
   "outputs": [],
   "source": [
    "imdb = requests.get('https://www.imdb.com/search/title/?groups=top_100&sort=user_rating,desc')"
   ]
  },
  {
   "cell_type": "code",
   "execution_count": 8,
   "metadata": {},
   "outputs": [],
   "source": [
    "soup =BeautifulSoup(imdb.content, 'html.parser')"
   ]
  },
  {
   "cell_type": "code",
   "execution_count": 9,
   "metadata": {},
   "outputs": [],
   "source": [
    "name = soup.find_all('h3', class_ = 'lister-item-header')"
   ]
  },
  {
   "cell_type": "code",
   "execution_count": 10,
   "metadata": {},
   "outputs": [],
   "source": [
    "number = []\n",
    "year = []\n",
    "movie_title = []\n",
    "for i in name: \n",
    "    temp = i.get_text().replace('\\n', '$')\n",
    "    number.append(temp.split('$')[1].replace('.',''))\n",
    "    movie_title.append(temp.split('$')[2])\n",
    "    year_temp = temp.split('$')[3].replace('(', '')\n",
    "    year_temp = year_temp.replace(')', '')\n",
    "    year.append(year_temp)\n"
   ]
  },
  {
   "cell_type": "code",
   "execution_count": 11,
   "metadata": {},
   "outputs": [],
   "source": [
    "rating= []\n",
    "rate = soup.find_all('div', class_ = 'inline-block ratings-imdb-rating')\n",
    "for i in rate:\n",
    "    rating.append(i.get_text().replace('\\n', ''))"
   ]
  },
  {
   "cell_type": "code",
   "execution_count": 12,
   "metadata": {},
   "outputs": [
    {
     "data": {
      "text/html": [
       "<div>\n",
       "<style scoped>\n",
       "    .dataframe tbody tr th:only-of-type {\n",
       "        vertical-align: middle;\n",
       "    }\n",
       "\n",
       "    .dataframe tbody tr th {\n",
       "        vertical-align: top;\n",
       "    }\n",
       "\n",
       "    .dataframe thead th {\n",
       "        text-align: right;\n",
       "    }\n",
       "</style>\n",
       "<table border=\"1\" class=\"dataframe\">\n",
       "  <thead>\n",
       "    <tr style=\"text-align: right;\">\n",
       "      <th></th>\n",
       "      <th>Title</th>\n",
       "      <th>Year</th>\n",
       "      <th>Rating</th>\n",
       "    </tr>\n",
       "    <tr>\n",
       "      <th>Rank</th>\n",
       "      <th></th>\n",
       "      <th></th>\n",
       "      <th></th>\n",
       "    </tr>\n",
       "  </thead>\n",
       "  <tbody>\n",
       "    <tr>\n",
       "      <th>1</th>\n",
       "      <td>The Shawshank Redemption</td>\n",
       "      <td>1994</td>\n",
       "      <td>9.3</td>\n",
       "    </tr>\n",
       "    <tr>\n",
       "      <th>2</th>\n",
       "      <td>The Godfather</td>\n",
       "      <td>1972</td>\n",
       "      <td>9.2</td>\n",
       "    </tr>\n",
       "    <tr>\n",
       "      <th>3</th>\n",
       "      <td>The Dark Knight</td>\n",
       "      <td>2008</td>\n",
       "      <td>9.0</td>\n",
       "    </tr>\n",
       "    <tr>\n",
       "      <th>4</th>\n",
       "      <td>The Godfather: Part II</td>\n",
       "      <td>1974</td>\n",
       "      <td>9.0</td>\n",
       "    </tr>\n",
       "    <tr>\n",
       "      <th>5</th>\n",
       "      <td>12 Angry Men</td>\n",
       "      <td>1957</td>\n",
       "      <td>9.0</td>\n",
       "    </tr>\n",
       "  </tbody>\n",
       "</table>\n",
       "</div>"
      ],
      "text/plain": [
       "                         Title  Year Rating\n",
       "Rank                                       \n",
       "1     The Shawshank Redemption  1994    9.3\n",
       "2                The Godfather  1972    9.2\n",
       "3              The Dark Knight  2008    9.0\n",
       "4       The Godfather: Part II  1974    9.0\n",
       "5                 12 Angry Men  1957    9.0"
      ]
     },
     "execution_count": 12,
     "metadata": {},
     "output_type": "execute_result"
    }
   ],
   "source": [
    "top50 = pd.DataFrame(list(zip(number, movie_title, year, rating)), \n",
    "               columns =['Rank', 'Title', 'Year', 'Rating'])\n",
    "top50.set_index('Rank', inplace = True)\n",
    "top50.head()"
   ]
  },
  {
   "cell_type": "markdown",
   "metadata": {},
   "source": [
    "### Top 250 : https://www.imdb.com/chart/top/?ref_=nv_mv_250"
   ]
  },
  {
   "cell_type": "code",
   "execution_count": 13,
   "metadata": {},
   "outputs": [],
   "source": [
    "imdb = requests.get('https://www.imdb.com/chart/top/?ref_=nv_mv_250')\n",
    "soup =BeautifulSoup(imdb.content, 'html.parser')\n",
    "name = soup.find_all('td', class_ = 'titleColumn')"
   ]
  },
  {
   "cell_type": "code",
   "execution_count": 14,
   "metadata": {},
   "outputs": [],
   "source": [
    "number = []\n",
    "year = []\n",
    "movie_title = []\n",
    "for i in name: \n",
    "    temp = i.get_text().replace('\\n', '$')\n",
    "    \n",
    "    num_temp = temp.split('$')[1].replace(' ','')\n",
    "    num_temp = num_temp.replace('.','')\n",
    "    number.append(num_temp)\n",
    "    \n",
    "    movie_title.append(temp.split('$')[2])\n",
    "    \n",
    "    year_temp = temp.split('$')[3].replace('(', '')\n",
    "    year_temp = year_temp.replace(')', '')\n",
    "    year.append(year_temp)"
   ]
  },
  {
   "cell_type": "code",
   "execution_count": 15,
   "metadata": {},
   "outputs": [],
   "source": [
    "rating= []\n",
    "rate = soup.find_all('td', class_ = 'ratingColumn imdbRating')\n",
    "for i in rate:\n",
    "    rating.append(i.get_text().replace('\\n', ''))"
   ]
  },
  {
   "cell_type": "code",
   "execution_count": 16,
   "metadata": {},
   "outputs": [],
   "source": [
    "top250 = pd.DataFrame(list(zip(number, movie_title, year, rating)), \n",
    "               columns =['Rank', 'Title', 'Year', 'Rating'])\n",
    "top250.set_index('Rank', inplace = True)"
   ]
  },
  {
   "cell_type": "code",
   "execution_count": 17,
   "metadata": {},
   "outputs": [],
   "source": [
    "top250['Title']= top250['Title'].str.lstrip() #removing the spaces in front of the title"
   ]
  },
  {
   "cell_type": "markdown",
   "metadata": {},
   "source": [
    "# Top 100"
   ]
  },
  {
   "cell_type": "code",
   "execution_count": 18,
   "metadata": {},
   "outputs": [
    {
     "data": {
      "text/plain": [
       "(100, 3)"
      ]
     },
     "execution_count": 18,
     "metadata": {},
     "output_type": "execute_result"
    }
   ],
   "source": [
    "top100 = top250.iloc[0:100]\n",
    "top100.shape"
   ]
  },
  {
   "cell_type": "code",
   "execution_count": 19,
   "metadata": {},
   "outputs": [],
   "source": [
    "#Saving to csv file\n",
    "top100.to_csv('top100_movies.csv')"
   ]
  },
  {
   "cell_type": "markdown",
   "metadata": {},
   "source": [
    "#### 3 . Python program to display IMDB’s Top rated 100 Indian movies’ data (i.e. Name, IMDB rating, Year of release) and save it in form of a CSV file."
   ]
  },
  {
   "cell_type": "code",
   "execution_count": 20,
   "metadata": {},
   "outputs": [],
   "source": [
    "url = 'https://www.imdb.com/india/top-rated-indian-movies/'"
   ]
  },
  {
   "cell_type": "code",
   "execution_count": 21,
   "metadata": {},
   "outputs": [],
   "source": [
    "imdb = requests.get(url)\n",
    "soup =BeautifulSoup(imdb.content, 'html.parser')\n",
    "name = soup.find_all('td', class_ = 'titleColumn')"
   ]
  },
  {
   "cell_type": "code",
   "execution_count": 22,
   "metadata": {},
   "outputs": [],
   "source": [
    "number = []\n",
    "year = []\n",
    "movie_title = []\n",
    "for i in name: \n",
    "    temp = i.get_text().replace('\\n', '$')\n",
    "    \n",
    "    num_temp = temp.split('$')[1].replace(' ','')\n",
    "    num_temp = num_temp.replace('.','')\n",
    "    number.append(num_temp)\n",
    "    \n",
    "    movie_title.append(temp.split('$')[2])\n",
    "    \n",
    "    year_temp = temp.split('$')[3].replace('(', '')\n",
    "    year_temp = year_temp.replace(')', '')\n",
    "    year.append(year_temp)"
   ]
  },
  {
   "cell_type": "code",
   "execution_count": 23,
   "metadata": {},
   "outputs": [],
   "source": [
    "rating= []\n",
    "rate = soup.find_all('td', class_ = 'ratingColumn imdbRating')\n",
    "for i in rate:\n",
    "    rating.append(i.get_text().replace('\\n', ''))"
   ]
  },
  {
   "cell_type": "code",
   "execution_count": 24,
   "metadata": {},
   "outputs": [
    {
     "data": {
      "text/plain": [
       "(100, 3)"
      ]
     },
     "execution_count": 24,
     "metadata": {},
     "output_type": "execute_result"
    }
   ],
   "source": [
    "top_ind = pd.DataFrame(list(zip(number, movie_title, year, rating)), \n",
    "               columns =['Rank', 'Title', 'Year', 'Rating'])\n",
    "top_ind.set_index('Rank',inplace=True)\n",
    "top_ind['Title']= top_ind['Title'].str.lstrip() \n",
    "top_indian = top_ind.iloc[0:100]\n",
    "top_indian.shape"
   ]
  },
  {
   "cell_type": "code",
   "execution_count": 25,
   "metadata": {},
   "outputs": [],
   "source": [
    "top_indian.to_csv('top100_indian_movies.csv')"
   ]
  },
  {
   "cell_type": "markdown",
   "metadata": {},
   "source": [
    "#### 4. Python program to scrap book name, author name, genre and book review of any 5 books from ‘www.bookpage.com’\n",
    "\n",
    "link : https://bookpage.com/reviews"
   ]
  },
  {
   "cell_type": "code",
   "execution_count": 26,
   "metadata": {},
   "outputs": [],
   "source": [
    "books = requests.get('https://bookpage.com/reviews')\n",
    "soup = BeautifulSoup(books.content, 'html.parser')"
   ]
  },
  {
   "cell_type": "code",
   "execution_count": 27,
   "metadata": {},
   "outputs": [],
   "source": [
    "#Scrapping the book title\n",
    "title = []\n",
    "name = soup.find_all('h4', class_ ='italic')\n",
    "for i in name:\n",
    "    title.append(i.get_text().replace('\\n',''))"
   ]
  },
  {
   "cell_type": "code",
   "execution_count": 28,
   "metadata": {},
   "outputs": [],
   "source": [
    "#scrapping author's name\n",
    "author = []\n",
    "name = soup.find_all('p', class_ ='sans bold')\n",
    "for i in name:\n",
    "    author.append(i.get_text().replace('\\n',''))"
   ]
  },
  {
   "cell_type": "code",
   "execution_count": 29,
   "metadata": {},
   "outputs": [],
   "source": [
    "#Scrapping the reviews\n",
    "review = []\n",
    "name = soup.find_all('p', class_ ='excerpt')\n",
    "for i in name:\n",
    "    review.append(i.get_text().replace('\\n',''))"
   ]
  },
  {
   "cell_type": "code",
   "execution_count": 30,
   "metadata": {},
   "outputs": [],
   "source": [
    "#scrapping genre of the book\n",
    "genre = []\n",
    "name = soup.find_all('p',class_='genre-links hidden-phone')\n",
    "for i in name:\n",
    "    genre.append(i.get_text().replace('\\n',''))"
   ]
  },
  {
   "cell_type": "code",
   "execution_count": 31,
   "metadata": {},
   "outputs": [],
   "source": [
    "books_reviews = pd.DataFrame(list(zip(title, author, review, genre)), \n",
    "               columns =['Title', 'Author' ,'Review', 'Genre'])"
   ]
  },
  {
   "cell_type": "code",
   "execution_count": 32,
   "metadata": {},
   "outputs": [
    {
     "data": {
      "text/html": [
       "<div>\n",
       "<style scoped>\n",
       "    .dataframe tbody tr th:only-of-type {\n",
       "        vertical-align: middle;\n",
       "    }\n",
       "\n",
       "    .dataframe tbody tr th {\n",
       "        vertical-align: top;\n",
       "    }\n",
       "\n",
       "    .dataframe thead th {\n",
       "        text-align: right;\n",
       "    }\n",
       "</style>\n",
       "<table border=\"1\" class=\"dataframe\">\n",
       "  <thead>\n",
       "    <tr style=\"text-align: right;\">\n",
       "      <th></th>\n",
       "      <th>Title</th>\n",
       "      <th>Author</th>\n",
       "      <th>Review</th>\n",
       "      <th>Genre</th>\n",
       "    </tr>\n",
       "  </thead>\n",
       "  <tbody>\n",
       "    <tr>\n",
       "      <th>0</th>\n",
       "      <td>★ The Seed Keeper</td>\n",
       "      <td>Diane Wilson</td>\n",
       "      <td>The story of a bold, strong Dakhóta woman name...</td>\n",
       "      <td>Fiction / Literary Fiction</td>\n",
       "    </tr>\n",
       "    <tr>\n",
       "      <th>1</th>\n",
       "      <td>★ The Code Breaker</td>\n",
       "      <td>Walter Isaacson</td>\n",
       "      <td>Like Lab Girl on steroids, The Code Breaker pa...</td>\n",
       "      <td>Nonfiction / Biography / Science</td>\n",
       "    </tr>\n",
       "    <tr>\n",
       "      <th>2</th>\n",
       "      <td>The Bone Maker</td>\n",
       "      <td>Sarah Beth Durst</td>\n",
       "      <td>Twenty-five years ago, in the land of Vos, a g...</td>\n",
       "      <td>Science Fiction &amp; Fantasy / Fantasy</td>\n",
       "    </tr>\n",
       "    <tr>\n",
       "      <th>3</th>\n",
       "      <td>★ How Beautiful We Were</td>\n",
       "      <td>Imbolo Mbue</td>\n",
       "      <td>Readers who enjoyed Behold the Dreamers will b...</td>\n",
       "      <td>Fiction / Literary Fiction</td>\n",
       "    </tr>\n",
       "    <tr>\n",
       "      <th>4</th>\n",
       "      <td>Perfect on Paper</td>\n",
       "      <td>Sophie Gonzales</td>\n",
       "      <td>Darcy Phillips is a love guru. Through her top...</td>\n",
       "      <td>YA / YA Fiction</td>\n",
       "    </tr>\n",
       "  </tbody>\n",
       "</table>\n",
       "</div>"
      ],
      "text/plain": [
       "                      Title            Author  \\\n",
       "0         ★ The Seed Keeper      Diane Wilson   \n",
       "1        ★ The Code Breaker   Walter Isaacson   \n",
       "2            The Bone Maker  Sarah Beth Durst   \n",
       "3   ★ How Beautiful We Were       Imbolo Mbue   \n",
       "4          Perfect on Paper   Sophie Gonzales   \n",
       "\n",
       "                                              Review  \\\n",
       "0  The story of a bold, strong Dakhóta woman name...   \n",
       "1  Like Lab Girl on steroids, The Code Breaker pa...   \n",
       "2  Twenty-five years ago, in the land of Vos, a g...   \n",
       "3  Readers who enjoyed Behold the Dreamers will b...   \n",
       "4  Darcy Phillips is a love guru. Through her top...   \n",
       "\n",
       "                                 Genre  \n",
       "0           Fiction / Literary Fiction  \n",
       "1     Nonfiction / Biography / Science  \n",
       "2  Science Fiction & Fantasy / Fantasy  \n",
       "3           Fiction / Literary Fiction  \n",
       "4                      YA / YA Fiction  "
      ]
     },
     "execution_count": 32,
     "metadata": {},
     "output_type": "execute_result"
    }
   ],
   "source": [
    "books_reviews.head()"
   ]
  },
  {
   "cell_type": "markdown",
   "metadata": {},
   "source": [
    "# 5. Python program to scrap cricket rankings from ‘www.icc-cricket.com’. \n",
    "__i) Top 10 ODI teams in men’s cricket along with the records for matches, points and rating.__"
   ]
  },
  {
   "cell_type": "code",
   "execution_count": 33,
   "metadata": {},
   "outputs": [],
   "source": [
    "odi =requests.get('https://www.icc-cricket.com/rankings/mens/team-rankings/odi')\n",
    "soup = BeautifulSoup(odi.content, 'html.parser')"
   ]
  },
  {
   "cell_type": "code",
   "execution_count": 34,
   "metadata": {},
   "outputs": [],
   "source": [
    "#Scrapping men's team list\n",
    "team_men =[]\n",
    "Mteam = soup.find_all('span', class_ = 'u-hide-phablet')\n",
    "\n",
    "for i in Mteam:\n",
    "    team_men.append(i.get_text())\n",
    "    \n",
    "team_men= team_men[0:10] #Taking top 10 teams"
   ]
  },
  {
   "cell_type": "code",
   "execution_count": 35,
   "metadata": {},
   "outputs": [],
   "source": [
    "#Scrapping men's rating list\n",
    "rate_men =[]\n",
    "top = soup.find_all('td', class_ = 'rankings-block__banner--rating u-text-right')\n",
    "top_rating =top[0].get_text().replace('\\n', '')\n",
    "top_rating = top_rating.replace(' ', '')\n",
    "rate_men.append(top_rating)\n",
    "\n",
    "\n",
    "Mrate = soup.find_all('td', class_ = 'table-body__cell u-text-right rating')\n",
    "for i in Mrate:\n",
    "    rate_men.append(i.get_text())\n",
    "    \n",
    "rate_men= rate_men[0:10] #Taking top 10 teams"
   ]
  },
  {
   "cell_type": "code",
   "execution_count": 36,
   "metadata": {},
   "outputs": [],
   "source": [
    "#Scrapping number of matches and points\n",
    "matches_men =[]\n",
    "points_men = []\n",
    "#top country is given with a different banner\n",
    "topm = soup.find_all('td', class_ = 'rankings-block__banner--matches')\n",
    "matches_men.append(topm[0].get_text())\n",
    "\n",
    "topp = soup.find_all('td', class_ = 'rankings-block__banner--points')\n",
    "points_men.append(topp[0].get_text())\n",
    "\n",
    "Mmatch = soup.find_all('td', class_ = 'table-body__cell u-center-text')\n"
   ]
  },
  {
   "cell_type": "code",
   "execution_count": 37,
   "metadata": {},
   "outputs": [],
   "source": [
    "j=0\n",
    "for i in Mmatch:\n",
    "    if (j%2 == 0):\n",
    "        matches_men.append(i.get_text())\n",
    "    else:\n",
    "        points_men.append(i.get_text())\n",
    "    j = j+1\n"
   ]
  },
  {
   "cell_type": "code",
   "execution_count": 38,
   "metadata": {},
   "outputs": [],
   "source": [
    "matches_men= matches_men[0:10] #Taking top 10 matches played\n",
    "points_men= points_men[0:10] #Taking top 10 points"
   ]
  },
  {
   "cell_type": "code",
   "execution_count": 39,
   "metadata": {},
   "outputs": [
    {
     "data": {
      "text/plain": [
       "['5,405',\n",
       " '6,102',\n",
       " '3,716',\n",
       " '4,344',\n",
       " '3,345',\n",
       " '3,490',\n",
       " '3,366',\n",
       " '3,297',\n",
       " '3,402',\n",
       " '1,844']"
      ]
     },
     "execution_count": 39,
     "metadata": {},
     "output_type": "execute_result"
    }
   ],
   "source": [
    "points_men"
   ]
  },
  {
   "cell_type": "code",
   "execution_count": 40,
   "metadata": {},
   "outputs": [
    {
     "data": {
      "text/plain": [
       "['44', '52', '32', '39', '31', '35', '37', '39', '46', '31']"
      ]
     },
     "execution_count": 40,
     "metadata": {},
     "output_type": "execute_result"
    }
   ],
   "source": [
    "matches_men"
   ]
  },
  {
   "cell_type": "code",
   "execution_count": 41,
   "metadata": {},
   "outputs": [],
   "source": [
    "Mens_teams = pd.DataFrame(list(zip(team_men,  matches_men, points_men)), \n",
    "               columns =['Team','Matches', 'Points'])"
   ]
  },
  {
   "cell_type": "code",
   "execution_count": 42,
   "metadata": {},
   "outputs": [
    {
     "data": {
      "text/html": [
       "<div>\n",
       "<style scoped>\n",
       "    .dataframe tbody tr th:only-of-type {\n",
       "        vertical-align: middle;\n",
       "    }\n",
       "\n",
       "    .dataframe tbody tr th {\n",
       "        vertical-align: top;\n",
       "    }\n",
       "\n",
       "    .dataframe thead th {\n",
       "        text-align: right;\n",
       "    }\n",
       "</style>\n",
       "<table border=\"1\" class=\"dataframe\">\n",
       "  <thead>\n",
       "    <tr style=\"text-align: right;\">\n",
       "      <th></th>\n",
       "      <th>Team</th>\n",
       "      <th>Matches</th>\n",
       "      <th>Points</th>\n",
       "    </tr>\n",
       "  </thead>\n",
       "  <tbody>\n",
       "    <tr>\n",
       "      <th>0</th>\n",
       "      <td>England</td>\n",
       "      <td>44</td>\n",
       "      <td>5,405</td>\n",
       "    </tr>\n",
       "    <tr>\n",
       "      <th>1</th>\n",
       "      <td>India</td>\n",
       "      <td>52</td>\n",
       "      <td>6,102</td>\n",
       "    </tr>\n",
       "    <tr>\n",
       "      <th>2</th>\n",
       "      <td>New Zealand</td>\n",
       "      <td>32</td>\n",
       "      <td>3,716</td>\n",
       "    </tr>\n",
       "    <tr>\n",
       "      <th>3</th>\n",
       "      <td>Australia</td>\n",
       "      <td>39</td>\n",
       "      <td>4,344</td>\n",
       "    </tr>\n",
       "    <tr>\n",
       "      <th>4</th>\n",
       "      <td>South Africa</td>\n",
       "      <td>31</td>\n",
       "      <td>3,345</td>\n",
       "    </tr>\n",
       "    <tr>\n",
       "      <th>5</th>\n",
       "      <td>Pakistan</td>\n",
       "      <td>35</td>\n",
       "      <td>3,490</td>\n",
       "    </tr>\n",
       "    <tr>\n",
       "      <th>6</th>\n",
       "      <td>Bangladesh</td>\n",
       "      <td>37</td>\n",
       "      <td>3,366</td>\n",
       "    </tr>\n",
       "    <tr>\n",
       "      <th>7</th>\n",
       "      <td>Sri Lanka</td>\n",
       "      <td>39</td>\n",
       "      <td>3,297</td>\n",
       "    </tr>\n",
       "    <tr>\n",
       "      <th>8</th>\n",
       "      <td>West Indies</td>\n",
       "      <td>46</td>\n",
       "      <td>3,402</td>\n",
       "    </tr>\n",
       "    <tr>\n",
       "      <th>9</th>\n",
       "      <td>Afghanistan</td>\n",
       "      <td>31</td>\n",
       "      <td>1,844</td>\n",
       "    </tr>\n",
       "  </tbody>\n",
       "</table>\n",
       "</div>"
      ],
      "text/plain": [
       "           Team Matches Points\n",
       "0       England      44  5,405\n",
       "1         India      52  6,102\n",
       "2   New Zealand      32  3,716\n",
       "3     Australia      39  4,344\n",
       "4  South Africa      31  3,345\n",
       "5      Pakistan      35  3,490\n",
       "6    Bangladesh      37  3,366\n",
       "7     Sri Lanka      39  3,297\n",
       "8   West Indies      46  3,402\n",
       "9   Afghanistan      31  1,844"
      ]
     },
     "execution_count": 42,
     "metadata": {},
     "output_type": "execute_result"
    }
   ],
   "source": [
    "Mens_teams"
   ]
  },
  {
   "cell_type": "markdown",
   "metadata": {},
   "source": [
    "__ii) Top 10 ODI Batsmen in men along with the records of their team and rating.__\n",
    "\n",
    "https://www.icc-cricket.com/rankings/mens/player-rankings/odi"
   ]
  },
  {
   "cell_type": "code",
   "execution_count": 43,
   "metadata": {},
   "outputs": [],
   "source": [
    "odi =requests.get('https://www.icc-cricket.com/rankings/mens/player-rankings/odi')\n",
    "soup = BeautifulSoup(odi.content, 'html.parser')"
   ]
  },
  {
   "cell_type": "code",
   "execution_count": 44,
   "metadata": {},
   "outputs": [],
   "source": [
    "player = []\n",
    "team = []\n",
    "rating = []\n",
    "\n",
    "#Top player attributes\n",
    "top_name = soup.find('div', class_ = 'rankings-block__banner--name')\n",
    "player.append(top_name.get_text())\n",
    "\n",
    "top_rate = soup.find('div', class_ = 'rankings-block__banner--rating')\n",
    "rating.append(top_rate.get_text())\n",
    "\n",
    "top_team = soup.find('div', class_ = 'rankings-block__banner--nationality')\n",
    "team.append(top_team.get_text().split('\\n')[2])"
   ]
  },
  {
   "cell_type": "code",
   "execution_count": 45,
   "metadata": {},
   "outputs": [],
   "source": [
    "#Adding the other players\n",
    "top_name = soup.find_all('td', class_ = 'table-body__cell name')\n",
    "for i in top_name:\n",
    "    player.append(i.get_text().replace('\\n', ''))\n",
    "\n",
    "player = player[0:10]"
   ]
  },
  {
   "cell_type": "code",
   "execution_count": 46,
   "metadata": {},
   "outputs": [],
   "source": [
    "#Adding rating of other player:\n",
    "top_rate = soup.find_all('td', class_ = 'table-body__cell u-text-right rating')\n",
    "for i in top_rate:\n",
    "    rating.append(i.get_text().replace('\\n', ''))\n",
    "\n",
    "rating = rating[0:10]"
   ]
  },
  {
   "cell_type": "code",
   "execution_count": 47,
   "metadata": {},
   "outputs": [],
   "source": [
    "#Adding team of other player:\n",
    "top_team = soup.find_all('td', class_ = 'table-body__cell nationality-logo')\n",
    "for i in top_team:\n",
    "    team.append(i.get_text().replace('\\n', ''))\n",
    "    \n",
    "team = team[0:10]"
   ]
  },
  {
   "cell_type": "code",
   "execution_count": 48,
   "metadata": {},
   "outputs": [],
   "source": [
    "Top_batsmen = pd.DataFrame(list(zip(player, team, rating)), \n",
    "               columns =['Player','Team', 'Rating'])"
   ]
  },
  {
   "cell_type": "code",
   "execution_count": 49,
   "metadata": {},
   "outputs": [
    {
     "data": {
      "text/html": [
       "<div>\n",
       "<style scoped>\n",
       "    .dataframe tbody tr th:only-of-type {\n",
       "        vertical-align: middle;\n",
       "    }\n",
       "\n",
       "    .dataframe tbody tr th {\n",
       "        vertical-align: top;\n",
       "    }\n",
       "\n",
       "    .dataframe thead th {\n",
       "        text-align: right;\n",
       "    }\n",
       "</style>\n",
       "<table border=\"1\" class=\"dataframe\">\n",
       "  <thead>\n",
       "    <tr style=\"text-align: right;\">\n",
       "      <th></th>\n",
       "      <th>Player</th>\n",
       "      <th>Team</th>\n",
       "      <th>Rating</th>\n",
       "    </tr>\n",
       "  </thead>\n",
       "  <tbody>\n",
       "    <tr>\n",
       "      <th>0</th>\n",
       "      <td>Virat Kohli</td>\n",
       "      <td>IND</td>\n",
       "      <td>870</td>\n",
       "    </tr>\n",
       "    <tr>\n",
       "      <th>1</th>\n",
       "      <td>Rohit Sharma</td>\n",
       "      <td>IND</td>\n",
       "      <td>842</td>\n",
       "    </tr>\n",
       "    <tr>\n",
       "      <th>2</th>\n",
       "      <td>Babar Azam</td>\n",
       "      <td>PAK</td>\n",
       "      <td>837</td>\n",
       "    </tr>\n",
       "    <tr>\n",
       "      <th>3</th>\n",
       "      <td>Ross Taylor</td>\n",
       "      <td>NZ</td>\n",
       "      <td>818</td>\n",
       "    </tr>\n",
       "    <tr>\n",
       "      <th>4</th>\n",
       "      <td>Aaron Finch</td>\n",
       "      <td>AUS</td>\n",
       "      <td>791</td>\n",
       "    </tr>\n",
       "    <tr>\n",
       "      <th>5</th>\n",
       "      <td>Francois du Plessis</td>\n",
       "      <td>SA</td>\n",
       "      <td>790</td>\n",
       "    </tr>\n",
       "    <tr>\n",
       "      <th>6</th>\n",
       "      <td>David Warner</td>\n",
       "      <td>AUS</td>\n",
       "      <td>773</td>\n",
       "    </tr>\n",
       "    <tr>\n",
       "      <th>7</th>\n",
       "      <td>Kane Williamson</td>\n",
       "      <td>NZ</td>\n",
       "      <td>765</td>\n",
       "    </tr>\n",
       "    <tr>\n",
       "      <th>8</th>\n",
       "      <td>Quinton de Kock</td>\n",
       "      <td>SA</td>\n",
       "      <td>755</td>\n",
       "    </tr>\n",
       "    <tr>\n",
       "      <th>9</th>\n",
       "      <td>Jonny Bairstow</td>\n",
       "      <td>ENG</td>\n",
       "      <td>754</td>\n",
       "    </tr>\n",
       "  </tbody>\n",
       "</table>\n",
       "</div>"
      ],
      "text/plain": [
       "                Player Team Rating\n",
       "0          Virat Kohli  IND    870\n",
       "1         Rohit Sharma  IND    842\n",
       "2           Babar Azam  PAK    837\n",
       "3          Ross Taylor   NZ    818\n",
       "4          Aaron Finch  AUS    791\n",
       "5  Francois du Plessis   SA    790\n",
       "6         David Warner  AUS    773\n",
       "7      Kane Williamson   NZ    765\n",
       "8      Quinton de Kock   SA    755\n",
       "9       Jonny Bairstow  ENG    754"
      ]
     },
     "execution_count": 49,
     "metadata": {},
     "output_type": "execute_result"
    }
   ],
   "source": [
    "Top_batsmen"
   ]
  },
  {
   "cell_type": "markdown",
   "metadata": {},
   "source": [
    "__iii) Top 10 ODI bowlers along with the records of their team and rating__"
   ]
  },
  {
   "cell_type": "code",
   "execution_count": 50,
   "metadata": {},
   "outputs": [],
   "source": [
    "odi =requests.get('https://www.icc-cricket.com/rankings/mens/player-rankings/odi')\n",
    "soup = BeautifulSoup(odi.content, 'html.parser')"
   ]
  },
  {
   "cell_type": "code",
   "execution_count": 51,
   "metadata": {},
   "outputs": [],
   "source": [
    "player = []\n",
    "team = []\n",
    "rating = []\n",
    "\n",
    "#Top player attributes\n",
    "top_name = soup.find_all('div', class_ = 'rankings-block__banner--name')\n",
    "player.append(top_name[1].get_text())\n",
    "\n",
    "top_rate = soup.find_all('div', class_ = 'rankings-block__banner--rating')\n",
    "rating.append(top_rate[1].get_text())\n",
    "\n",
    "top_team = soup.find_all('div', class_ = 'rankings-block__banner--nationality')\n",
    "team.append(top_team[1].get_text().split('\\n')[2])"
   ]
  },
  {
   "cell_type": "code",
   "execution_count": 52,
   "metadata": {},
   "outputs": [],
   "source": [
    "#adding other players\n",
    "top_players = soup.find_all('td', class_ = 'table-body__cell name')\n",
    "new = []\n",
    "for i in top_players:\n",
    "    new.append(i.get_text().replace('\\n', ''))\n",
    "    \n",
    "for j in new[9:18]:\n",
    "    player.append(j)"
   ]
  },
  {
   "cell_type": "code",
   "execution_count": 53,
   "metadata": {},
   "outputs": [],
   "source": [
    "#adding other teams\n",
    "top_teams = soup.find_all('td', class_ = 'table-body__cell nationality-logo')\n",
    "new = []\n",
    "for i in top_teams:\n",
    "    new.append(i.get_text().replace('\\n', ''))\n",
    "    \n",
    "for j in new[9:18]:\n",
    "    team.append(j)"
   ]
  },
  {
   "cell_type": "code",
   "execution_count": 54,
   "metadata": {},
   "outputs": [],
   "source": [
    "#adding other rating\n",
    "top_rate = soup.find_all('td', class_ = 'table-body__cell u-text-right rating')\n",
    "new = []\n",
    "for i in top_rate:\n",
    "    new.append(i.get_text().replace('\\n', ''))\n",
    "    \n",
    "for j in new[9:18]:\n",
    "    rating.append(j)"
   ]
  },
  {
   "cell_type": "code",
   "execution_count": 55,
   "metadata": {},
   "outputs": [],
   "source": [
    "Top_bowler = pd.DataFrame(list(zip(player, team, rating)), \n",
    "               columns =['Player','Team', 'Rating'])"
   ]
  },
  {
   "cell_type": "code",
   "execution_count": 56,
   "metadata": {},
   "outputs": [
    {
     "data": {
      "text/html": [
       "<div>\n",
       "<style scoped>\n",
       "    .dataframe tbody tr th:only-of-type {\n",
       "        vertical-align: middle;\n",
       "    }\n",
       "\n",
       "    .dataframe tbody tr th {\n",
       "        vertical-align: top;\n",
       "    }\n",
       "\n",
       "    .dataframe thead th {\n",
       "        text-align: right;\n",
       "    }\n",
       "</style>\n",
       "<table border=\"1\" class=\"dataframe\">\n",
       "  <thead>\n",
       "    <tr style=\"text-align: right;\">\n",
       "      <th></th>\n",
       "      <th>Player</th>\n",
       "      <th>Team</th>\n",
       "      <th>Rating</th>\n",
       "    </tr>\n",
       "  </thead>\n",
       "  <tbody>\n",
       "    <tr>\n",
       "      <th>0</th>\n",
       "      <td>Trent Boult</td>\n",
       "      <td>NZ</td>\n",
       "      <td>722</td>\n",
       "    </tr>\n",
       "    <tr>\n",
       "      <th>1</th>\n",
       "      <td>Mujeeb Ur Rahman</td>\n",
       "      <td>AFG</td>\n",
       "      <td>708</td>\n",
       "    </tr>\n",
       "    <tr>\n",
       "      <th>2</th>\n",
       "      <td>Jasprit Bumrah</td>\n",
       "      <td>IND</td>\n",
       "      <td>700</td>\n",
       "    </tr>\n",
       "    <tr>\n",
       "      <th>3</th>\n",
       "      <td>Mehedi Hasan</td>\n",
       "      <td>BAN</td>\n",
       "      <td>694</td>\n",
       "    </tr>\n",
       "    <tr>\n",
       "      <th>4</th>\n",
       "      <td>Chris Woakes</td>\n",
       "      <td>ENG</td>\n",
       "      <td>675</td>\n",
       "    </tr>\n",
       "    <tr>\n",
       "      <th>5</th>\n",
       "      <td>Kagiso Rabada</td>\n",
       "      <td>SA</td>\n",
       "      <td>665</td>\n",
       "    </tr>\n",
       "    <tr>\n",
       "      <th>6</th>\n",
       "      <td>Josh Hazlewood</td>\n",
       "      <td>AUS</td>\n",
       "      <td>660</td>\n",
       "    </tr>\n",
       "    <tr>\n",
       "      <th>7</th>\n",
       "      <td>Mustafizur Rahman</td>\n",
       "      <td>BAN</td>\n",
       "      <td>658</td>\n",
       "    </tr>\n",
       "    <tr>\n",
       "      <th>8</th>\n",
       "      <td>Mohammad Amir</td>\n",
       "      <td>PAK</td>\n",
       "      <td>647</td>\n",
       "    </tr>\n",
       "    <tr>\n",
       "      <th>9</th>\n",
       "      <td>Pat Cummins</td>\n",
       "      <td>AUS</td>\n",
       "      <td>646</td>\n",
       "    </tr>\n",
       "  </tbody>\n",
       "</table>\n",
       "</div>"
      ],
      "text/plain": [
       "              Player Team Rating\n",
       "0        Trent Boult   NZ    722\n",
       "1   Mujeeb Ur Rahman  AFG    708\n",
       "2     Jasprit Bumrah  IND    700\n",
       "3       Mehedi Hasan  BAN    694\n",
       "4       Chris Woakes  ENG    675\n",
       "5      Kagiso Rabada   SA    665\n",
       "6     Josh Hazlewood  AUS    660\n",
       "7  Mustafizur Rahman  BAN    658\n",
       "8      Mohammad Amir  PAK    647\n",
       "9        Pat Cummins  AUS    646"
      ]
     },
     "execution_count": 56,
     "metadata": {},
     "output_type": "execute_result"
    }
   ],
   "source": [
    "Top_bowler"
   ]
  },
  {
   "cell_type": "markdown",
   "metadata": {},
   "source": [
    "### 6. Python program to scrap cricket rankings from ‘www.icc-cricket.com’. \n",
    "__i) Top 10 ODI teams in women’s cricket along with the records for matches, points and rating.__\n",
    "\n",
    "https://www.icc-cricket.com/rankings/womens/team-rankings/odi"
   ]
  },
  {
   "cell_type": "code",
   "execution_count": 57,
   "metadata": {},
   "outputs": [],
   "source": [
    "wodi =requests.get('https://www.icc-cricket.com/rankings/womens/team-rankings/odi')\n",
    "soup = BeautifulSoup(wodi.content, 'html.parser')"
   ]
  },
  {
   "cell_type": "code",
   "execution_count": 58,
   "metadata": {},
   "outputs": [],
   "source": [
    "#Scrapping women's team list\n",
    "team_w =[]\n",
    "Wteam = soup.find_all('span', class_ = 'u-hide-phablet')\n",
    "\n",
    "for i in Wteam:\n",
    "    team_w.append(i.get_text())\n",
    "    \n",
    "team_w= team_w[0:10] #Taking top 10 teams"
   ]
  },
  {
   "cell_type": "code",
   "execution_count": 59,
   "metadata": {},
   "outputs": [],
   "source": [
    "#Scrapping women's rating list\n",
    "rate_w =[]\n",
    "top = soup.find_all('td', class_ = 'rankings-block__banner--rating u-text-right')\n",
    "top_rating =top[0].get_text().replace('\\n', '')\n",
    "top_rating = top_rating.replace(' ', '')\n",
    "rate_w.append(top_rating)\n",
    "\n",
    "\n",
    "Wrate = soup.find_all('td', class_ = 'table-body__cell u-text-right rating')\n",
    "for i in Wrate:\n",
    "    rate_w.append(i.get_text())\n",
    "    \n",
    "rate_w= rate_w[0:10] #Taking top 10 teams"
   ]
  },
  {
   "cell_type": "code",
   "execution_count": 60,
   "metadata": {},
   "outputs": [],
   "source": [
    "#Scrapping number of matches and points\n",
    "matches_w =[]\n",
    "points_w = []\n",
    "#top country is given with a different banner\n",
    "topw = soup.find_all('td', class_ = 'rankings-block__banner--matches')\n",
    "matches_w.append(topw[0].get_text())\n",
    "\n",
    "topp = soup.find_all('td', class_ = 'rankings-block__banner--points')\n",
    "points_w.append(topp[0].get_text())\n",
    "\n",
    "Wmatch = soup.find_all('td', class_ = 'table-body__cell u-center-text')\n"
   ]
  },
  {
   "cell_type": "code",
   "execution_count": 61,
   "metadata": {},
   "outputs": [],
   "source": [
    "j=0\n",
    "for i in Wmatch:\n",
    "    if (j%2 == 0):\n",
    "        matches_w.append(i.get_text())\n",
    "    else:\n",
    "        points_w.append(i.get_text())\n",
    "    j = j+1"
   ]
  },
  {
   "cell_type": "code",
   "execution_count": 62,
   "metadata": {},
   "outputs": [
    {
     "data": {
      "text/html": [
       "<div>\n",
       "<style scoped>\n",
       "    .dataframe tbody tr th:only-of-type {\n",
       "        vertical-align: middle;\n",
       "    }\n",
       "\n",
       "    .dataframe tbody tr th {\n",
       "        vertical-align: top;\n",
       "    }\n",
       "\n",
       "    .dataframe thead th {\n",
       "        text-align: right;\n",
       "    }\n",
       "</style>\n",
       "<table border=\"1\" class=\"dataframe\">\n",
       "  <thead>\n",
       "    <tr style=\"text-align: right;\">\n",
       "      <th></th>\n",
       "      <th>Team</th>\n",
       "      <th>Matches</th>\n",
       "      <th>Points</th>\n",
       "    </tr>\n",
       "  </thead>\n",
       "  <tbody>\n",
       "    <tr>\n",
       "      <th>0</th>\n",
       "      <td>Australia</td>\n",
       "      <td>15</td>\n",
       "      <td>2,436</td>\n",
       "    </tr>\n",
       "    <tr>\n",
       "      <th>1</th>\n",
       "      <td>India</td>\n",
       "      <td>15</td>\n",
       "      <td>1,812</td>\n",
       "    </tr>\n",
       "    <tr>\n",
       "      <th>2</th>\n",
       "      <td>England</td>\n",
       "      <td>14</td>\n",
       "      <td>1,670</td>\n",
       "    </tr>\n",
       "    <tr>\n",
       "      <th>3</th>\n",
       "      <td>South Africa</td>\n",
       "      <td>19</td>\n",
       "      <td>2,090</td>\n",
       "    </tr>\n",
       "    <tr>\n",
       "      <th>4</th>\n",
       "      <td>New Zealand</td>\n",
       "      <td>15</td>\n",
       "      <td>1,384</td>\n",
       "    </tr>\n",
       "    <tr>\n",
       "      <th>5</th>\n",
       "      <td>West Indies</td>\n",
       "      <td>12</td>\n",
       "      <td>1,025</td>\n",
       "    </tr>\n",
       "    <tr>\n",
       "      <th>6</th>\n",
       "      <td>Pakistan</td>\n",
       "      <td>15</td>\n",
       "      <td>1,101</td>\n",
       "    </tr>\n",
       "    <tr>\n",
       "      <th>7</th>\n",
       "      <td>Bangladesh</td>\n",
       "      <td>5</td>\n",
       "      <td>306</td>\n",
       "    </tr>\n",
       "    <tr>\n",
       "      <th>8</th>\n",
       "      <td>Sri Lanka</td>\n",
       "      <td>11</td>\n",
       "      <td>519</td>\n",
       "    </tr>\n",
       "    <tr>\n",
       "      <th>9</th>\n",
       "      <td>Ireland</td>\n",
       "      <td>2</td>\n",
       "      <td>25</td>\n",
       "    </tr>\n",
       "  </tbody>\n",
       "</table>\n",
       "</div>"
      ],
      "text/plain": [
       "           Team Matches Points\n",
       "0     Australia      15  2,436\n",
       "1         India      15  1,812\n",
       "2       England      14  1,670\n",
       "3  South Africa      19  2,090\n",
       "4   New Zealand      15  1,384\n",
       "5   West Indies      12  1,025\n",
       "6      Pakistan      15  1,101\n",
       "7    Bangladesh       5    306\n",
       "8     Sri Lanka      11    519\n",
       "9       Ireland       2     25"
      ]
     },
     "execution_count": 62,
     "metadata": {},
     "output_type": "execute_result"
    }
   ],
   "source": [
    "W_teams = pd.DataFrame(list(zip(team_w,  matches_w, points_w)), \n",
    "               columns =['Team','Matches', 'Points'])\n",
    "W_teams"
   ]
  },
  {
   "cell_type": "markdown",
   "metadata": {},
   "source": [
    "__ii) Top 10 women’s ODI players along with the records of their team and rating.__\n",
    "\n",
    "https://www.icc-cricket.com/rankings/womens/player-rankings/odi"
   ]
  },
  {
   "cell_type": "code",
   "execution_count": 63,
   "metadata": {},
   "outputs": [],
   "source": [
    "Wtop =requests.get('https://www.icc-cricket.com/rankings/womens/player-rankings/odi')\n",
    "soup = BeautifulSoup(Wtop.content, 'html.parser')"
   ]
  },
  {
   "cell_type": "code",
   "execution_count": 64,
   "metadata": {},
   "outputs": [],
   "source": [
    "player = []\n",
    "team = []\n",
    "rating = []\n",
    "\n",
    "#Top player attributes\n",
    "top_name = soup.find('div', class_ = 'rankings-block__banner--name')\n",
    "player.append(top_name.get_text())\n",
    "\n",
    "top_rate = soup.find('div', class_ = 'rankings-block__banner--rating')\n",
    "rating.append(top_rate.get_text())\n",
    "\n",
    "top_team = soup.find('div', class_ = 'rankings-block__banner--nationality')\n",
    "team.append(top_team.get_text().split('\\n')[2])"
   ]
  },
  {
   "cell_type": "code",
   "execution_count": 65,
   "metadata": {},
   "outputs": [],
   "source": [
    "#Adding the other players\n",
    "top_name = soup.find_all('td', class_ = 'table-body__cell name')\n",
    "for i in top_name:\n",
    "    player.append(i.get_text().replace('\\n', ''))\n",
    "\n",
    "player = player[0:10]"
   ]
  },
  {
   "cell_type": "code",
   "execution_count": 66,
   "metadata": {},
   "outputs": [],
   "source": [
    "#Adding rating of other player:\n",
    "top_rate = soup.find_all('td', class_ = 'table-body__cell u-text-right rating')\n",
    "for i in top_rate:\n",
    "    rating.append(i.get_text().replace('\\n', ''))\n",
    "\n",
    "rating = rating[0:10]"
   ]
  },
  {
   "cell_type": "code",
   "execution_count": 67,
   "metadata": {},
   "outputs": [],
   "source": [
    "#Adding team of other player:\n",
    "top_team = soup.find_all('td', class_ = 'table-body__cell nationality-logo')\n",
    "for i in top_team:\n",
    "    team.append(i.get_text().replace('\\n', ''))\n",
    "    \n",
    "team = team[0:10]"
   ]
  },
  {
   "cell_type": "code",
   "execution_count": 68,
   "metadata": {},
   "outputs": [],
   "source": [
    "Top = pd.DataFrame(list(zip(player, team, rating)), \n",
    "               columns =['Player','Team', 'Rating'])"
   ]
  },
  {
   "cell_type": "code",
   "execution_count": 69,
   "metadata": {},
   "outputs": [
    {
     "data": {
      "text/html": [
       "<div>\n",
       "<style scoped>\n",
       "    .dataframe tbody tr th:only-of-type {\n",
       "        vertical-align: middle;\n",
       "    }\n",
       "\n",
       "    .dataframe tbody tr th {\n",
       "        vertical-align: top;\n",
       "    }\n",
       "\n",
       "    .dataframe thead th {\n",
       "        text-align: right;\n",
       "    }\n",
       "</style>\n",
       "<table border=\"1\" class=\"dataframe\">\n",
       "  <thead>\n",
       "    <tr style=\"text-align: right;\">\n",
       "      <th></th>\n",
       "      <th>Player</th>\n",
       "      <th>Team</th>\n",
       "      <th>Rating</th>\n",
       "    </tr>\n",
       "  </thead>\n",
       "  <tbody>\n",
       "    <tr>\n",
       "      <th>0</th>\n",
       "      <td>Tammy Beaumont</td>\n",
       "      <td>ENG</td>\n",
       "      <td>765</td>\n",
       "    </tr>\n",
       "    <tr>\n",
       "      <th>1</th>\n",
       "      <td>Meg Lanning</td>\n",
       "      <td>AUS</td>\n",
       "      <td>749</td>\n",
       "    </tr>\n",
       "    <tr>\n",
       "      <th>2</th>\n",
       "      <td>Stafanie Taylor</td>\n",
       "      <td>WI</td>\n",
       "      <td>746</td>\n",
       "    </tr>\n",
       "    <tr>\n",
       "      <th>3</th>\n",
       "      <td>Alyssa Healy</td>\n",
       "      <td>AUS</td>\n",
       "      <td>741</td>\n",
       "    </tr>\n",
       "    <tr>\n",
       "      <th>4</th>\n",
       "      <td>Amy Satterthwaite</td>\n",
       "      <td>NZ</td>\n",
       "      <td>740</td>\n",
       "    </tr>\n",
       "    <tr>\n",
       "      <th>5</th>\n",
       "      <td>Laura Wolvaardt</td>\n",
       "      <td>SA</td>\n",
       "      <td>725</td>\n",
       "    </tr>\n",
       "    <tr>\n",
       "      <th>6</th>\n",
       "      <td>Smriti Mandhana</td>\n",
       "      <td>IND</td>\n",
       "      <td>721</td>\n",
       "    </tr>\n",
       "    <tr>\n",
       "      <th>7</th>\n",
       "      <td>Lizelle Lee</td>\n",
       "      <td>SA</td>\n",
       "      <td>717</td>\n",
       "    </tr>\n",
       "    <tr>\n",
       "      <th>8</th>\n",
       "      <td>Ellyse Perry</td>\n",
       "      <td>AUS</td>\n",
       "      <td>691</td>\n",
       "    </tr>\n",
       "    <tr>\n",
       "      <th>9</th>\n",
       "      <td>Mithali Raj</td>\n",
       "      <td>IND</td>\n",
       "      <td>691</td>\n",
       "    </tr>\n",
       "  </tbody>\n",
       "</table>\n",
       "</div>"
      ],
      "text/plain": [
       "              Player Team Rating\n",
       "0     Tammy Beaumont  ENG    765\n",
       "1        Meg Lanning  AUS    749\n",
       "2    Stafanie Taylor   WI    746\n",
       "3       Alyssa Healy  AUS    741\n",
       "4  Amy Satterthwaite   NZ    740\n",
       "5    Laura Wolvaardt   SA    725\n",
       "6    Smriti Mandhana  IND    721\n",
       "7        Lizelle Lee   SA    717\n",
       "8       Ellyse Perry  AUS    691\n",
       "9        Mithali Raj  IND    691"
      ]
     },
     "execution_count": 69,
     "metadata": {},
     "output_type": "execute_result"
    }
   ],
   "source": [
    "Top"
   ]
  },
  {
   "cell_type": "markdown",
   "metadata": {},
   "source": [
    "__iii) Top 10 women’s ODI all-rounder along with the records of their team and rating.__"
   ]
  },
  {
   "cell_type": "code",
   "execution_count": 70,
   "metadata": {},
   "outputs": [],
   "source": [
    "Wtop =requests.get('https://www.icc-cricket.com/rankings/womens/player-rankings/odi')\n",
    "soup = BeautifulSoup(Wtop.content, 'html.parser')"
   ]
  },
  {
   "cell_type": "code",
   "execution_count": 71,
   "metadata": {},
   "outputs": [],
   "source": [
    "player = []\n",
    "team = []\n",
    "rating = []\n",
    "\n",
    "#Top player attributes\n",
    "top_name = soup.find_all('div', class_ = 'rankings-block__banner--name')\n",
    "player.append(top_name[1].get_text())\n",
    "\n",
    "top_rate = soup.find_all('div', class_ = 'rankings-block__banner--rating')\n",
    "rating.append(top_rate[1].get_text())\n",
    "\n",
    "top_team = soup.find_all('div', class_ = 'rankings-block__banner--nationality')\n",
    "team.append(top_team[1].get_text().split('\\n')[2])"
   ]
  },
  {
   "cell_type": "code",
   "execution_count": 72,
   "metadata": {},
   "outputs": [],
   "source": [
    "#adding other players\n",
    "top_players = soup.find_all('td', class_ = 'table-body__cell name')\n",
    "new = []\n",
    "for i in top_players:\n",
    "    new.append(i.get_text().replace('\\n', ''))\n",
    "    \n",
    "for j in new[9:18]:\n",
    "    player.append(j)"
   ]
  },
  {
   "cell_type": "code",
   "execution_count": 73,
   "metadata": {},
   "outputs": [],
   "source": [
    "#adding other teams\n",
    "top_teams = soup.find_all('td', class_ = 'table-body__cell nationality-logo')\n",
    "new = []\n",
    "for i in top_teams:\n",
    "    new.append(i.get_text().replace('\\n', ''))\n",
    "    \n",
    "for j in new[9:18]:\n",
    "    team.append(j)"
   ]
  },
  {
   "cell_type": "code",
   "execution_count": 74,
   "metadata": {},
   "outputs": [],
   "source": [
    "#adding other rating\n",
    "top_rate = soup.find_all('td', class_ = 'table-body__cell u-text-right rating')\n",
    "new = []\n",
    "for i in top_rate:\n",
    "    new.append(i.get_text().replace('\\n', ''))\n",
    "    \n",
    "for j in new[9:18]:\n",
    "    rating.append(j)"
   ]
  },
  {
   "cell_type": "code",
   "execution_count": 75,
   "metadata": {},
   "outputs": [],
   "source": [
    "Top_wbowler = pd.DataFrame(list(zip(player, team, rating)), \n",
    "               columns =['Player','Team', 'Rating'])"
   ]
  },
  {
   "cell_type": "code",
   "execution_count": 76,
   "metadata": {},
   "outputs": [
    {
     "data": {
      "text/html": [
       "<div>\n",
       "<style scoped>\n",
       "    .dataframe tbody tr th:only-of-type {\n",
       "        vertical-align: middle;\n",
       "    }\n",
       "\n",
       "    .dataframe tbody tr th {\n",
       "        vertical-align: top;\n",
       "    }\n",
       "\n",
       "    .dataframe thead th {\n",
       "        text-align: right;\n",
       "    }\n",
       "</style>\n",
       "<table border=\"1\" class=\"dataframe\">\n",
       "  <thead>\n",
       "    <tr style=\"text-align: right;\">\n",
       "      <th></th>\n",
       "      <th>Player</th>\n",
       "      <th>Team</th>\n",
       "      <th>Rating</th>\n",
       "    </tr>\n",
       "  </thead>\n",
       "  <tbody>\n",
       "    <tr>\n",
       "      <th>0</th>\n",
       "      <td>Jess Jonassen</td>\n",
       "      <td>AUS</td>\n",
       "      <td>804</td>\n",
       "    </tr>\n",
       "    <tr>\n",
       "      <th>1</th>\n",
       "      <td>Shabnim Ismail</td>\n",
       "      <td>SA</td>\n",
       "      <td>743</td>\n",
       "    </tr>\n",
       "    <tr>\n",
       "      <th>2</th>\n",
       "      <td>Megan Schutt</td>\n",
       "      <td>AUS</td>\n",
       "      <td>735</td>\n",
       "    </tr>\n",
       "    <tr>\n",
       "      <th>3</th>\n",
       "      <td>Marizanne Kapp</td>\n",
       "      <td>SA</td>\n",
       "      <td>729</td>\n",
       "    </tr>\n",
       "    <tr>\n",
       "      <th>4</th>\n",
       "      <td>Jhulan Goswami</td>\n",
       "      <td>IND</td>\n",
       "      <td>691</td>\n",
       "    </tr>\n",
       "    <tr>\n",
       "      <th>5</th>\n",
       "      <td>Poonam Yadav</td>\n",
       "      <td>IND</td>\n",
       "      <td>678</td>\n",
       "    </tr>\n",
       "    <tr>\n",
       "      <th>6</th>\n",
       "      <td>Ellyse Perry</td>\n",
       "      <td>AUS</td>\n",
       "      <td>666</td>\n",
       "    </tr>\n",
       "    <tr>\n",
       "      <th>7</th>\n",
       "      <td>Shikha Pandey</td>\n",
       "      <td>IND</td>\n",
       "      <td>662</td>\n",
       "    </tr>\n",
       "    <tr>\n",
       "      <th>8</th>\n",
       "      <td>Katherine Brunt</td>\n",
       "      <td>ENG</td>\n",
       "      <td>655</td>\n",
       "    </tr>\n",
       "    <tr>\n",
       "      <th>9</th>\n",
       "      <td>Ayabonga Khaka</td>\n",
       "      <td>SA</td>\n",
       "      <td>640</td>\n",
       "    </tr>\n",
       "  </tbody>\n",
       "</table>\n",
       "</div>"
      ],
      "text/plain": [
       "            Player Team Rating\n",
       "0    Jess Jonassen  AUS    804\n",
       "1   Shabnim Ismail   SA    743\n",
       "2     Megan Schutt  AUS    735\n",
       "3   Marizanne Kapp   SA    729\n",
       "4   Jhulan Goswami  IND    691\n",
       "5     Poonam Yadav  IND    678\n",
       "6     Ellyse Perry  AUS    666\n",
       "7    Shikha Pandey  IND    662\n",
       "8  Katherine Brunt  ENG    655\n",
       "9   Ayabonga Khaka   SA    640"
      ]
     },
     "execution_count": 76,
     "metadata": {},
     "output_type": "execute_result"
    }
   ],
   "source": [
    "Top_wbowler"
   ]
  },
  {
   "cell_type": "markdown",
   "metadata": {},
   "source": [
    "#### 7. Python program to scrape details of all the mobile phones under Rs. 20,000 listed on Amazon.in. The scraped data should include Product Name, Price, Image URL and Average Rating.\n",
    "\n",
    "link: https://www.amazon.in/s?i=electronics&bbn=1389432031&rh=n%3A1389432031%2Cp_36%3A100000-2000000&dc&qid=1610357215&rnid=1318502031&ref=sr_pg_1"
   ]
  },
  {
   "cell_type": "code",
   "execution_count": 3,
   "metadata": {},
   "outputs": [],
   "source": [
    "from selenium.common.exceptions import NoSuchElementException"
   ]
  },
  {
   "cell_type": "code",
   "execution_count": 4,
   "metadata": {},
   "outputs": [],
   "source": [
    "url = '''https://www.amazon.in/s?i=electronics&bbn=1389432031&rh=n%3A1389432031%2Cp_36%3A100000-2000000&dc&qid=1610357215&rnid=1318502031&ref=sr_pg_1'''\n",
    "driver.get(url)"
   ]
  },
  {
   "cell_type": "code",
   "execution_count": 5,
   "metadata": {},
   "outputs": [],
   "source": [
    "#getting the maximum number of pages\n",
    "#for p in driver.find_elements_by_xpath('//ul[class=\"a-pagination\"]/li[6]'):\n",
    "for p in driver.find_elements_by_xpath('//*[@id=\"search\"]/div[1]/div[2]/div/span[3]/div[2]/div[25]/span/div/div/ul/li[6]'):\n",
    "    max_pages= int(p.text)"
   ]
  },
  {
   "cell_type": "code",
   "execution_count": 6,
   "metadata": {},
   "outputs": [
    {
     "data": {
      "text/plain": [
       "123"
      ]
     },
     "execution_count": 6,
     "metadata": {},
     "output_type": "execute_result"
    }
   ],
   "source": [
    "max_pages"
   ]
  },
  {
   "cell_type": "code",
   "execution_count": 98,
   "metadata": {},
   "outputs": [],
   "source": [
    "name = []\n",
    "price = []\n",
    "im_link = []\n",
    "rate= []\n",
    "\n",
    "for i in range(1,max_pages+1):\n",
    "    for j in driver.find_elements_by_xpath('//a[@class=\"a-link-normal a-text-normal\"]'):\n",
    "        name.append(j.text)\n",
    "    \n",
    "    for k in driver.find_elements_by_xpath('//span[@class=\"a-price\"]'):\n",
    "        if len(k.text) != 0: \n",
    "            price.append(k.text)\n",
    "        else:\n",
    "            price.append('None')\n",
    "            \n",
    "    for l in driver.find_elements_by_xpath('//img[@class=\"s-image\"]'):\n",
    "        im_link.append(l.get_attribute('src'))\n",
    "    \n",
    "    for m in driver.find_elements_by_xpath('//div[@class=\"a-row a-size-small\"]/span[1]'):\n",
    "        rate.append(m.get_attribute('aria-label'))\n",
    "    \n",
    "    \n",
    "    driver.find_element_by_xpath('//ul[@class=\"a-pagination\"]/li[7]').click()\n",
    "    time.sleep(5)"
   ]
  },
  {
   "cell_type": "code",
   "execution_count": 99,
   "metadata": {},
   "outputs": [
    {
     "data": {
      "text/plain": [
       "(3048, 3048, 3048, 3048)"
      ]
     },
     "execution_count": 99,
     "metadata": {},
     "output_type": "execute_result"
    }
   ],
   "source": [
    "len(name), len(price), len(im_link), len(rate)"
   ]
  },
  {
   "cell_type": "code",
   "execution_count": 100,
   "metadata": {},
   "outputs": [],
   "source": [
    "mobile =pd.DataFrame(list(zip(name, price, im_link, rate)), columns = ['model name', 'price', 'image link', 'rating'])"
   ]
  },
  {
   "cell_type": "code",
   "execution_count": 148,
   "metadata": {},
   "outputs": [
    {
     "data": {
      "text/html": [
       "<div>\n",
       "<style scoped>\n",
       "    .dataframe tbody tr th:only-of-type {\n",
       "        vertical-align: middle;\n",
       "    }\n",
       "\n",
       "    .dataframe tbody tr th {\n",
       "        vertical-align: top;\n",
       "    }\n",
       "\n",
       "    .dataframe thead th {\n",
       "        text-align: right;\n",
       "    }\n",
       "</style>\n",
       "<table border=\"1\" class=\"dataframe\">\n",
       "  <thead>\n",
       "    <tr style=\"text-align: right;\">\n",
       "      <th></th>\n",
       "      <th>model name</th>\n",
       "      <th>price</th>\n",
       "      <th>image link</th>\n",
       "      <th>rating</th>\n",
       "    </tr>\n",
       "  </thead>\n",
       "  <tbody>\n",
       "    <tr>\n",
       "      <th>0</th>\n",
       "      <td>Redmi 9 (Sky Blue, 4GB RAM, 64GB Storage)</td>\n",
       "      <td>₹8,799</td>\n",
       "      <td>https://m.media-amazon.com/images/I/71A9Vo1Bat...</td>\n",
       "      <td>4.0 out of 5 stars</td>\n",
       "    </tr>\n",
       "    <tr>\n",
       "      <th>1</th>\n",
       "      <td>Redmi 9 Power (Blazing Blue, 4GB RAM, 64GB Sto...</td>\n",
       "      <td>₹10,499</td>\n",
       "      <td>https://m.media-amazon.com/images/I/71hEzQGO5q...</td>\n",
       "      <td>3.9 out of 5 stars</td>\n",
       "    </tr>\n",
       "    <tr>\n",
       "      <th>2</th>\n",
       "      <td>Redmi 9 Power (Mighty Black 4GB RAM 64GB Stora...</td>\n",
       "      <td>₹10,499</td>\n",
       "      <td>https://m.media-amazon.com/images/I/71hEzQGO5q...</td>\n",
       "      <td>3.9 out of 5 stars</td>\n",
       "    </tr>\n",
       "    <tr>\n",
       "      <th>3</th>\n",
       "      <td>Redmi Note 9 Pro (Aurora Blue, 4GB RAM, 64GB S...</td>\n",
       "      <td>₹12,999</td>\n",
       "      <td>https://m.media-amazon.com/images/I/811axeBSeR...</td>\n",
       "      <td>4.2 out of 5 stars</td>\n",
       "    </tr>\n",
       "    <tr>\n",
       "      <th>4</th>\n",
       "      <td>Samsung Galaxy M31 (Space Black, 6GB RAM, 128G...</td>\n",
       "      <td>₹16,499</td>\n",
       "      <td>https://m.media-amazon.com/images/I/71OxJeyywS...</td>\n",
       "      <td>4.2 out of 5 stars</td>\n",
       "    </tr>\n",
       "  </tbody>\n",
       "</table>\n",
       "</div>"
      ],
      "text/plain": [
       "                                          model name    price  \\\n",
       "0          Redmi 9 (Sky Blue, 4GB RAM, 64GB Storage)   ₹8,799   \n",
       "1  Redmi 9 Power (Blazing Blue, 4GB RAM, 64GB Sto...  ₹10,499   \n",
       "2  Redmi 9 Power (Mighty Black 4GB RAM 64GB Stora...  ₹10,499   \n",
       "3  Redmi Note 9 Pro (Aurora Blue, 4GB RAM, 64GB S...  ₹12,999   \n",
       "4  Samsung Galaxy M31 (Space Black, 6GB RAM, 128G...  ₹16,499   \n",
       "\n",
       "                                          image link              rating  \n",
       "0  https://m.media-amazon.com/images/I/71A9Vo1Bat...  4.0 out of 5 stars  \n",
       "1  https://m.media-amazon.com/images/I/71hEzQGO5q...  3.9 out of 5 stars  \n",
       "2  https://m.media-amazon.com/images/I/71hEzQGO5q...  3.9 out of 5 stars  \n",
       "3  https://m.media-amazon.com/images/I/811axeBSeR...  4.2 out of 5 stars  \n",
       "4  https://m.media-amazon.com/images/I/71OxJeyywS...  4.2 out of 5 stars  "
      ]
     },
     "execution_count": 148,
     "metadata": {},
     "output_type": "execute_result"
    }
   ],
   "source": [
    "mobile.head()"
   ]
  },
  {
   "cell_type": "markdown",
   "metadata": {},
   "source": [
    "## finding the price of mobiles that does not show price on the main page"
   ]
  },
  {
   "cell_type": "code",
   "execution_count": null,
   "metadata": {},
   "outputs": [],
   "source": [
    "name_a = []\n",
    "price_a = []\n",
    "im_link_a = []\n",
    "rate_a= []\n",
    "\n",
    "for i in range(1,max_pages+1):\n",
    "    for j in driver.find_elements_by_xpath('//a[@class=\"a-link-normal a-text-normal\"]'):\n",
    "        name_a.append(j.text)\n",
    "    \n",
    "    for k in driver.find_elements_by_xpath('//span[@class=\"a-price\"]'):\n",
    "        if len(k.text) != 0: \n",
    "            price_a.append(k.text)\n",
    "        else:\n",
    "            url = \n",
    "            driver2 =  \n",
    "            price_a.append('None')\n",
    "            \n",
    "    for l in driver.find_elements_by_xpath('//img[@class=\"s-image\"]'):\n",
    "        im_link_a.append(l.get_attribute('src'))\n",
    "    \n",
    "    for m in driver.find_elements_by_xpath('//div[@class=\"a-row a-size-small\"]/span[1]'):\n",
    "        rate_a.append(m.get_attribute('aria-label'))\n",
    "    \n",
    "    \n",
    "    driver.find_element_by_xpath('//ul[@class=\"a-pagination\"]/li[7]').click()\n",
    "    time.sleep(5)"
   ]
  },
  {
   "cell_type": "markdown",
   "metadata": {},
   "source": [
    "#### 8. Python program to extract information about the local weather from the National Weather Service website of USA, https://www.weather.gov/ for the city, San Francisco. Need to extract data about 7 day extended forecast display for the city. The data should include period, short description, temperature and description."
   ]
  },
  {
   "cell_type": "code",
   "execution_count": 101,
   "metadata": {},
   "outputs": [],
   "source": [
    "climate = requests.get('https://forecast.weather.gov/MapClick.php?textField1=37.78&textField2=-122.42#.YD9v2WgzY2x')\n",
    "soup = BeautifulSoup(climate.content, 'html.parser')"
   ]
  },
  {
   "cell_type": "code",
   "execution_count": 102,
   "metadata": {},
   "outputs": [],
   "source": [
    "#Scrapping time period\n",
    "period =[]\n",
    "time  = soup.find_all('div', class_ = 'col-sm-2 forecast-label') \n",
    "for i in time:\n",
    "    period.append(i.get_text(separator=\" \").replace('\\n', ''))"
   ]
  },
  {
   "cell_type": "code",
   "execution_count": 103,
   "metadata": {},
   "outputs": [],
   "source": [
    "#scrapping entire description\n",
    "description=[]\n",
    "sdesc  = soup.find_all('div', class_ = 'col-sm-10 forecast-text')\n",
    "for desc in sdesc:\n",
    "    description.append(desc.get_text())"
   ]
  },
  {
   "cell_type": "code",
   "execution_count": 104,
   "metadata": {},
   "outputs": [],
   "source": [
    "#Extracting short description from the description\n",
    "short_description = []\n",
    "s_d= []\n",
    "for i in range(len(description)):\n",
    "    s_d.append(description[i].split(',')[0])\n",
    "\n",
    "for sd in s_d:\n",
    "    if sd.__contains__('.'):\n",
    "        short_description.append(sd.split('.')[1])\n",
    "    else:\n",
    "        short_description.append(sd)"
   ]
  },
  {
   "cell_type": "code",
   "execution_count": 105,
   "metadata": {},
   "outputs": [
    {
     "data": {
      "text/plain": [
       "['Rain before 11pm',\n",
       " 'Showers and possibly a thunderstorm',\n",
       " 'A chance of rain and thunderstorms before 11pm',\n",
       " 'Mostly sunny',\n",
       " 'Mostly clear',\n",
       " 'Sunny',\n",
       " 'Mostly clear',\n",
       " 'Mostly sunny',\n",
       " '  Mostly cloudy',\n",
       " 'A chance of rain',\n",
       " '  Mostly cloudy',\n",
       " '  Mostly sunny',\n",
       " '  Partly cloudy',\n",
       " '  Mostly sunny']"
      ]
     },
     "execution_count": 105,
     "metadata": {},
     "output_type": "execute_result"
    }
   ],
   "source": [
    "short_description"
   ]
  },
  {
   "cell_type": "code",
   "execution_count": 106,
   "metadata": {},
   "outputs": [
    {
     "name": "stdout",
     "output_type": "stream",
     "text": [
      "low at 42 °F\n",
      "high at 58 °F\n",
      "low at 44 °F\n",
      "high at 62 °F\n",
      "low at 45 °F\n",
      "high at 61 °F\n",
      "low at 46 °F\n",
      "high at 59 °F\n",
      "low at 44 °F\n",
      "high at 59 °F\n",
      "low at 44 °F\n",
      "high at 62 °F\n"
     ]
    }
   ],
   "source": [
    "#Extracting temprature from the description\n",
    "from nltk.tokenize import regexp_tokenize\n",
    "temprature = []\n",
    "for j in range(len(description)):\n",
    "    for i in description[j].split(','):\n",
    "        if(i.__contains__('low')):\n",
    "            faren = (regexp_tokenize(i,\"[0-9]+\"))\n",
    "            if (len(faren) != 0): \n",
    "                print(f\"low at {faren[0]} °F\" )\n",
    "                temprature.append(f\"low at {faren[0]} °F\" )\n",
    "        elif(i.__contains__('high')):\n",
    "            faren = (regexp_tokenize(i,\"[0-9]+\"))\n",
    "            if (len(faren) != 0): \n",
    "                print(f\"high at {faren[0]} °F\" )\n",
    "                temprature.append(f\"high at {faren[0]} °F\" )"
   ]
  },
  {
   "cell_type": "code",
   "execution_count": 107,
   "metadata": {},
   "outputs": [
    {
     "data": {
      "text/html": [
       "<div>\n",
       "<style scoped>\n",
       "    .dataframe tbody tr th:only-of-type {\n",
       "        vertical-align: middle;\n",
       "    }\n",
       "\n",
       "    .dataframe tbody tr th {\n",
       "        vertical-align: top;\n",
       "    }\n",
       "\n",
       "    .dataframe thead th {\n",
       "        text-align: right;\n",
       "    }\n",
       "</style>\n",
       "<table border=\"1\" class=\"dataframe\">\n",
       "  <thead>\n",
       "    <tr style=\"text-align: right;\">\n",
       "      <th></th>\n",
       "      <th>Day</th>\n",
       "      <th>Weather</th>\n",
       "      <th>Temprature</th>\n",
       "      <th>Description</th>\n",
       "    </tr>\n",
       "  </thead>\n",
       "  <tbody>\n",
       "    <tr>\n",
       "      <th>0</th>\n",
       "      <td>Tonight</td>\n",
       "      <td>Rain before 11pm</td>\n",
       "      <td>low at 42 °F</td>\n",
       "      <td>Rain before 11pm, then showers and possibly a ...</td>\n",
       "    </tr>\n",
       "    <tr>\n",
       "      <th>1</th>\n",
       "      <td>Wednesday</td>\n",
       "      <td>Showers and possibly a thunderstorm</td>\n",
       "      <td>high at 58 °F</td>\n",
       "      <td>Showers and possibly a thunderstorm, mainly be...</td>\n",
       "    </tr>\n",
       "    <tr>\n",
       "      <th>2</th>\n",
       "      <td>Wednesday Night</td>\n",
       "      <td>A chance of rain and thunderstorms before 11pm</td>\n",
       "      <td>low at 44 °F</td>\n",
       "      <td>A chance of rain and thunderstorms before 11pm...</td>\n",
       "    </tr>\n",
       "    <tr>\n",
       "      <th>3</th>\n",
       "      <td>Thursday</td>\n",
       "      <td>Mostly sunny</td>\n",
       "      <td>high at 62 °F</td>\n",
       "      <td>Mostly sunny, with a high near 58. North north...</td>\n",
       "    </tr>\n",
       "    <tr>\n",
       "      <th>4</th>\n",
       "      <td>Thursday Night</td>\n",
       "      <td>Mostly clear</td>\n",
       "      <td>low at 45 °F</td>\n",
       "      <td>Mostly clear, with a low around 44. West north...</td>\n",
       "    </tr>\n",
       "    <tr>\n",
       "      <th>5</th>\n",
       "      <td>Friday</td>\n",
       "      <td>Sunny</td>\n",
       "      <td>high at 61 °F</td>\n",
       "      <td>Sunny, with a high near 62.</td>\n",
       "    </tr>\n",
       "    <tr>\n",
       "      <th>6</th>\n",
       "      <td>Friday Night</td>\n",
       "      <td>Mostly clear</td>\n",
       "      <td>low at 46 °F</td>\n",
       "      <td>Mostly clear, with a low around 45.</td>\n",
       "    </tr>\n",
       "    <tr>\n",
       "      <th>7</th>\n",
       "      <td>Saturday</td>\n",
       "      <td>Mostly sunny</td>\n",
       "      <td>high at 59 °F</td>\n",
       "      <td>Mostly sunny, with a high near 61.</td>\n",
       "    </tr>\n",
       "    <tr>\n",
       "      <th>8</th>\n",
       "      <td>Saturday Night</td>\n",
       "      <td>Mostly cloudy</td>\n",
       "      <td>low at 44 °F</td>\n",
       "      <td>A slight chance of rain after 5am.  Mostly clo...</td>\n",
       "    </tr>\n",
       "    <tr>\n",
       "      <th>9</th>\n",
       "      <td>Sunday</td>\n",
       "      <td>A chance of rain</td>\n",
       "      <td>high at 59 °F</td>\n",
       "      <td>A chance of rain, mainly after 11am.  Partly s...</td>\n",
       "    </tr>\n",
       "    <tr>\n",
       "      <th>10</th>\n",
       "      <td>Sunday Night</td>\n",
       "      <td>Mostly cloudy</td>\n",
       "      <td>low at 44 °F</td>\n",
       "      <td>A chance of rain.  Mostly cloudy, with a low a...</td>\n",
       "    </tr>\n",
       "    <tr>\n",
       "      <th>11</th>\n",
       "      <td>Monday</td>\n",
       "      <td>Mostly sunny</td>\n",
       "      <td>high at 62 °F</td>\n",
       "      <td>A chance of rain.  Mostly sunny, with a high n...</td>\n",
       "    </tr>\n",
       "  </tbody>\n",
       "</table>\n",
       "</div>"
      ],
      "text/plain": [
       "                Day                                         Weather  \\\n",
       "0           Tonight                                Rain before 11pm   \n",
       "1         Wednesday             Showers and possibly a thunderstorm   \n",
       "2   Wednesday Night  A chance of rain and thunderstorms before 11pm   \n",
       "3          Thursday                                    Mostly sunny   \n",
       "4    Thursday Night                                    Mostly clear   \n",
       "5            Friday                                           Sunny   \n",
       "6      Friday Night                                    Mostly clear   \n",
       "7          Saturday                                    Mostly sunny   \n",
       "8    Saturday Night                                   Mostly cloudy   \n",
       "9            Sunday                                A chance of rain   \n",
       "10     Sunday Night                                   Mostly cloudy   \n",
       "11           Monday                                    Mostly sunny   \n",
       "\n",
       "       Temprature                                        Description  \n",
       "0    low at 42 °F  Rain before 11pm, then showers and possibly a ...  \n",
       "1   high at 58 °F  Showers and possibly a thunderstorm, mainly be...  \n",
       "2    low at 44 °F  A chance of rain and thunderstorms before 11pm...  \n",
       "3   high at 62 °F  Mostly sunny, with a high near 58. North north...  \n",
       "4    low at 45 °F  Mostly clear, with a low around 44. West north...  \n",
       "5   high at 61 °F                        Sunny, with a high near 62.  \n",
       "6    low at 46 °F                Mostly clear, with a low around 45.  \n",
       "7   high at 59 °F                 Mostly sunny, with a high near 61.  \n",
       "8    low at 44 °F  A slight chance of rain after 5am.  Mostly clo...  \n",
       "9   high at 59 °F  A chance of rain, mainly after 11am.  Partly s...  \n",
       "10   low at 44 °F  A chance of rain.  Mostly cloudy, with a low a...  \n",
       "11  high at 62 °F  A chance of rain.  Mostly sunny, with a high n...  "
      ]
     },
     "execution_count": 107,
     "metadata": {},
     "output_type": "execute_result"
    }
   ],
   "source": [
    "temp = pd.DataFrame(list(zip(period,short_description,temprature, description)), \n",
    "               columns =['Day','Weather','Temprature', 'Description'])\n",
    "temp"
   ]
  },
  {
   "cell_type": "markdown",
   "metadata": {},
   "source": [
    "#### 9. Python program to scrape ‘software developer’ job listings from ‘Monster.com’ upto 5 pages."
   ]
  },
  {
   "cell_type": "code",
   "execution_count": 108,
   "metadata": {},
   "outputs": [],
   "source": [
    "url = 'https://www.monsterindia.com/srp/results?query=Software%20Developer&searchId=a228838f-5d1a-452e-928d-74e3d587a7f9'\n",
    "driver.get(url)"
   ]
  },
  {
   "cell_type": "code",
   "execution_count": 146,
   "metadata": {},
   "outputs": [],
   "source": [
    "company =[]\n",
    "title = []\n",
    "location = []\n",
    "experience=[]\n",
    "salary=[]\n",
    "posted=[]\n",
    "description=[]\n",
    "\n",
    "for i in range(5):\n",
    "    for j in driver.find_elements_by_xpath('//span[@class=\"company-name\"]'):\n",
    "        company.append(j.text)\n",
    "\n",
    "    for k in driver.find_elements_by_xpath('//h3[@class=\"medium\"]/a[1] | //h3[@class=\"medium padd-sponsr\"]/a[1]'):\n",
    "        title.append(k.text)\n",
    "    \n",
    "    for l in driver.find_elements_by_xpath('//div[@class=\"col-xxs-12 col-sm-5 text-ellipsis\"]'):\n",
    "        location.append(l.text)\n",
    "    \n",
    "    for m in driver.find_elements_by_xpath('//div[@class=\"exp col-xxs-12 col-sm-3 text-ellipsis\"]'):\n",
    "        experience.append(m.text)\n",
    "    \n",
    "\n",
    "    for n in driver.find_elements_by_xpath('//div[@class=\"package col-xxs-12 col-sm-4 text-ellipsis\"]'):\n",
    "        salary.append(n.text)    \n",
    "\n",
    "    for o in driver.find_elements_by_xpath('//p[@class=\"job-descrip\"]'):\n",
    "        description.append(o.text)\n",
    "    \n",
    "    for p in driver.find_elements_by_xpath('//span[@class=\"posted\"]'):\n",
    "        if p.text != '|':\n",
    "            posted.append(p.text)\n",
    "    driver.find_element_by_xpath('//div[@class=\"srp-navigation ib\"]/a[2]').click()\n",
    "    time.sleep(5)    "
   ]
  },
  {
   "cell_type": "code",
   "execution_count": 149,
   "metadata": {},
   "outputs": [],
   "source": [
    "monster = pd.DataFrame(list(zip(company, title, location, experience, salary, posted, description)), \n",
    "                       columns = ['Company Name', 'Job Title', 'Location', 'Experience Required', 'Compensation', 'Posting duration', 'Description'])"
   ]
  },
  {
   "cell_type": "code",
   "execution_count": 150,
   "metadata": {},
   "outputs": [
    {
     "data": {
      "text/html": [
       "<div>\n",
       "<style scoped>\n",
       "    .dataframe tbody tr th:only-of-type {\n",
       "        vertical-align: middle;\n",
       "    }\n",
       "\n",
       "    .dataframe tbody tr th {\n",
       "        vertical-align: top;\n",
       "    }\n",
       "\n",
       "    .dataframe thead th {\n",
       "        text-align: right;\n",
       "    }\n",
       "</style>\n",
       "<table border=\"1\" class=\"dataframe\">\n",
       "  <thead>\n",
       "    <tr style=\"text-align: right;\">\n",
       "      <th></th>\n",
       "      <th>Company Name</th>\n",
       "      <th>Job Title</th>\n",
       "      <th>Location</th>\n",
       "      <th>Experience Required</th>\n",
       "      <th>Compensation</th>\n",
       "      <th>Posting duration</th>\n",
       "      <th>Description</th>\n",
       "    </tr>\n",
       "  </thead>\n",
       "  <tbody>\n",
       "    <tr>\n",
       "      <th>0</th>\n",
       "      <td>Applicantz Inc</td>\n",
       "      <td>C++ Software Engineer</td>\n",
       "      <td>Bengaluru / Bangalore, Remote</td>\n",
       "      <td>10-20 Years</td>\n",
       "      <td>Not Specified</td>\n",
       "      <td>Posted: 3 hours ago</td>\n",
       "      <td>Hiring, C++ Software Engineer in India for a R...</td>\n",
       "    </tr>\n",
       "    <tr>\n",
       "      <th>1</th>\n",
       "      <td>Digitalveli Technologies</td>\n",
       "      <td>Full Stack Developer - Java, C++</td>\n",
       "      <td>Chennai</td>\n",
       "      <td>5-9 Years</td>\n",
       "      <td>Not Specified</td>\n",
       "      <td>Posted: 9 hours ago</td>\n",
       "      <td>SE with min 5+ yrs of experience in Java, C++,...</td>\n",
       "    </tr>\n",
       "    <tr>\n",
       "      <th>2</th>\n",
       "      <td>Heylus Hr Private Limited</td>\n",
       "      <td>C#.Net with React.Js / Node.JS</td>\n",
       "      <td>Pune</td>\n",
       "      <td>4-10 Years</td>\n",
       "      <td>Not Specified</td>\n",
       "      <td>Posted: 8 hours ago</td>\n",
       "      <td>Skills: C#, .Net + HTML5, CSS3 + JavaScript + ...</td>\n",
       "    </tr>\n",
       "    <tr>\n",
       "      <th>3</th>\n",
       "      <td>Career Mantra Management Services</td>\n",
       "      <td>Top MNC &amp; PVT Ltd Companies Required Java Deve...</td>\n",
       "      <td>Mumbai, Pune</td>\n",
       "      <td>0-3 Years</td>\n",
       "      <td>2,40,000-6,00,000 INR Per Annum</td>\n",
       "      <td>Posted: 8 hours ago</td>\n",
       "      <td>Post : Java Developer Engineer Salary : 2.4 To...</td>\n",
       "    </tr>\n",
       "    <tr>\n",
       "      <th>4</th>\n",
       "      <td>Applicantz Inc</td>\n",
       "      <td>Anaplan Engineer</td>\n",
       "      <td>Bengaluru / Bangalore</td>\n",
       "      <td>2-7 Years</td>\n",
       "      <td>Not Specified</td>\n",
       "      <td>Posted: 3 hours ago</td>\n",
       "      <td>Hiring, Anaplan Engineer in Bengaluru, India</td>\n",
       "    </tr>\n",
       "    <tr>\n",
       "      <th>5</th>\n",
       "      <td>3i Infotech Limited</td>\n",
       "      <td>Plsql/ SQL/Oracle Developer</td>\n",
       "      <td>Mumbai, Mumbai City, Navi Mumbai, Thane</td>\n",
       "      <td>2-10 Years</td>\n",
       "      <td>Not Specified</td>\n",
       "      <td>Posted: 5 hours ago</td>\n",
       "      <td>Plsql/ SQL/Oracle Developer</td>\n",
       "    </tr>\n",
       "    <tr>\n",
       "      <th>6</th>\n",
       "      <td>Infomedia Solutions And Consultant</td>\n",
       "      <td>Python Developers Fresher</td>\n",
       "      <td>Pune</td>\n",
       "      <td>Fresher</td>\n",
       "      <td>Not Specified</td>\n",
       "      <td>Posted: 7 hours ago</td>\n",
       "      <td>Requirement for the post of python developers</td>\n",
       "    </tr>\n",
       "    <tr>\n",
       "      <th>7</th>\n",
       "      <td>Venhan Technologies Private Limited</td>\n",
       "      <td>Java SpringBoot Developer with Microservices</td>\n",
       "      <td>Bengaluru / Bangalore, Hyderabad / Secunderabad</td>\n",
       "      <td>3-8 Years</td>\n",
       "      <td>Not Specified</td>\n",
       "      <td>Posted: 3 hours ago</td>\n",
       "      <td>Java with Springboot and Microservices</td>\n",
       "    </tr>\n",
       "    <tr>\n",
       "      <th>8</th>\n",
       "      <td>Silaris Informations Private Limited</td>\n",
       "      <td>Software Developer Software Engineer</td>\n",
       "      <td>Delhi</td>\n",
       "      <td>2-12 Years</td>\n",
       "      <td>Not Specified</td>\n",
       "      <td>Posted: 14 days ago</td>\n",
       "      <td>Urgent opening for Software Developer for Sila...</td>\n",
       "    </tr>\n",
       "    <tr>\n",
       "      <th>9</th>\n",
       "      <td>Biz Industries</td>\n",
       "      <td>Software Engineer For Freshers</td>\n",
       "      <td>Mumbai</td>\n",
       "      <td>0-2 Years</td>\n",
       "      <td>1,50,000-2,50,000 INR Per Annum</td>\n",
       "      <td>Posted: 16 hours ago</td>\n",
       "      <td>Software Engineer</td>\n",
       "    </tr>\n",
       "  </tbody>\n",
       "</table>\n",
       "</div>"
      ],
      "text/plain": [
       "                           Company Name  \\\n",
       "0                        Applicantz Inc   \n",
       "1              Digitalveli Technologies   \n",
       "2             Heylus Hr Private Limited   \n",
       "3     Career Mantra Management Services   \n",
       "4                        Applicantz Inc   \n",
       "5                   3i Infotech Limited   \n",
       "6    Infomedia Solutions And Consultant   \n",
       "7   Venhan Technologies Private Limited   \n",
       "8  Silaris Informations Private Limited   \n",
       "9                        Biz Industries   \n",
       "\n",
       "                                           Job Title  \\\n",
       "0                              C++ Software Engineer   \n",
       "1                   Full Stack Developer - Java, C++   \n",
       "2                     C#.Net with React.Js / Node.JS   \n",
       "3  Top MNC & PVT Ltd Companies Required Java Deve...   \n",
       "4                                   Anaplan Engineer   \n",
       "5                        Plsql/ SQL/Oracle Developer   \n",
       "6                          Python Developers Fresher   \n",
       "7       Java SpringBoot Developer with Microservices   \n",
       "8               Software Developer Software Engineer   \n",
       "9                     Software Engineer For Freshers   \n",
       "\n",
       "                                          Location Experience Required  \\\n",
       "0                    Bengaluru / Bangalore, Remote         10-20 Years   \n",
       "1                                          Chennai           5-9 Years   \n",
       "2                                             Pune          4-10 Years   \n",
       "3                                     Mumbai, Pune           0-3 Years   \n",
       "4                            Bengaluru / Bangalore           2-7 Years   \n",
       "5          Mumbai, Mumbai City, Navi Mumbai, Thane          2-10 Years   \n",
       "6                                             Pune             Fresher   \n",
       "7  Bengaluru / Bangalore, Hyderabad / Secunderabad           3-8 Years   \n",
       "8                                            Delhi          2-12 Years   \n",
       "9                                           Mumbai           0-2 Years   \n",
       "\n",
       "                      Compensation      Posting duration  \\\n",
       "0                    Not Specified   Posted: 3 hours ago   \n",
       "1                    Not Specified   Posted: 9 hours ago   \n",
       "2                    Not Specified   Posted: 8 hours ago   \n",
       "3  2,40,000-6,00,000 INR Per Annum   Posted: 8 hours ago   \n",
       "4                    Not Specified   Posted: 3 hours ago   \n",
       "5                    Not Specified   Posted: 5 hours ago   \n",
       "6                    Not Specified   Posted: 7 hours ago   \n",
       "7                    Not Specified   Posted: 3 hours ago   \n",
       "8                    Not Specified   Posted: 14 days ago   \n",
       "9  1,50,000-2,50,000 INR Per Annum  Posted: 16 hours ago   \n",
       "\n",
       "                                         Description  \n",
       "0  Hiring, C++ Software Engineer in India for a R...  \n",
       "1  SE with min 5+ yrs of experience in Java, C++,...  \n",
       "2  Skills: C#, .Net + HTML5, CSS3 + JavaScript + ...  \n",
       "3  Post : Java Developer Engineer Salary : 2.4 To...  \n",
       "4       Hiring, Anaplan Engineer in Bengaluru, India  \n",
       "5                        Plsql/ SQL/Oracle Developer  \n",
       "6      Requirement for the post of python developers  \n",
       "7             Java with Springboot and Microservices  \n",
       "8  Urgent opening for Software Developer for Sila...  \n",
       "9                                  Software Engineer  "
      ]
     },
     "execution_count": 150,
     "metadata": {},
     "output_type": "execute_result"
    }
   ],
   "source": [
    "monster.head(10)"
   ]
  },
  {
   "cell_type": "markdown",
   "metadata": {},
   "source": [
    "#### 10. Python program to scrape ‘data scientist’ job listings for location ‘New Delhi’ from ‘Monster.com’. It should include all the jobs listed for the next 5 pages."
   ]
  },
  {
   "cell_type": "code",
   "execution_count": 151,
   "metadata": {},
   "outputs": [],
   "source": [
    "url = 'https://www.monsterindia.com/srp/results?query=Data%20Scientist&locations=Delhi&searchId=e834cd43-aeb8-4ff6-8a14-b2bf71efd413'\n",
    "driver.get(url)"
   ]
  },
  {
   "cell_type": "code",
   "execution_count": 152,
   "metadata": {},
   "outputs": [],
   "source": [
    "acompany =[]\n",
    "atitle = []\n",
    "alocation = []\n",
    "aexperience=[]\n",
    "asalary=[]\n",
    "aposted=[]\n",
    "adescription=[]\n",
    "\n",
    "for i in range(5):\n",
    "    for j in driver.find_elements_by_xpath('//span[@class=\"company-name\"]'):\n",
    "        acompany.append(j.text)\n",
    "\n",
    "    for k in driver.find_elements_by_xpath('//h3[@class=\"medium\"]/a[1] | //h3[@class=\"medium padd-sponsr\"]/a[1]'):\n",
    "        atitle.append(k.text)\n",
    "    \n",
    "    for l in driver.find_elements_by_xpath('//div[@class=\"col-xxs-12 col-sm-5 text-ellipsis\"]'):\n",
    "        alocation.append(l.text)\n",
    "    \n",
    "    for m in driver.find_elements_by_xpath('//div[@class=\"exp col-xxs-12 col-sm-3 text-ellipsis\"]'):\n",
    "        aexperience.append(m.text)\n",
    "    \n",
    "    for n in driver.find_elements_by_xpath('//div[@class=\"package col-xxs-12 col-sm-4 text-ellipsis\"]'):\n",
    "        asalary.append(n.text)    \n",
    "\n",
    "    for o in driver.find_elements_by_xpath('//p[@class=\"job-descrip\"]'):\n",
    "        adescription.append(o.text)\n",
    "    \n",
    "    for p in driver.find_elements_by_xpath('//span[@class=\"posted\"]'):\n",
    "        if p.text != '|':\n",
    "            aposted.append(p.text)\n",
    "    driver.find_element_by_xpath('//div[@class=\"srp-navigation ib\"]/a[2]').click()\n",
    "    time.sleep(5)    "
   ]
  },
  {
   "cell_type": "code",
   "execution_count": 153,
   "metadata": {},
   "outputs": [
    {
     "data": {
      "text/html": [
       "<div>\n",
       "<style scoped>\n",
       "    .dataframe tbody tr th:only-of-type {\n",
       "        vertical-align: middle;\n",
       "    }\n",
       "\n",
       "    .dataframe tbody tr th {\n",
       "        vertical-align: top;\n",
       "    }\n",
       "\n",
       "    .dataframe thead th {\n",
       "        text-align: right;\n",
       "    }\n",
       "</style>\n",
       "<table border=\"1\" class=\"dataframe\">\n",
       "  <thead>\n",
       "    <tr style=\"text-align: right;\">\n",
       "      <th></th>\n",
       "      <th>Company Name</th>\n",
       "      <th>Job Title</th>\n",
       "      <th>Location</th>\n",
       "      <th>Experience Required</th>\n",
       "      <th>Compensation</th>\n",
       "      <th>Posting duration</th>\n",
       "      <th>Description</th>\n",
       "    </tr>\n",
       "  </thead>\n",
       "  <tbody>\n",
       "    <tr>\n",
       "      <th>0</th>\n",
       "      <td>Structured Learning Assistance Consultants Ind...</td>\n",
       "      <td>Data Analyst / Fresher / Data Scientist / Grad...</td>\n",
       "      <td>Delhi, Gurgaon / Gurugram</td>\n",
       "      <td>0-5 Years</td>\n",
       "      <td>Not Specified</td>\n",
       "      <td>Posted: 14 hours ago</td>\n",
       "      <td>Fresher Can Apply: Call @ 8586804205 | 9999340492</td>\n",
       "    </tr>\n",
       "    <tr>\n",
       "      <th>1</th>\n",
       "      <td>Company Name Confidential</td>\n",
       "      <td>Data Scientist - Machine Learning</td>\n",
       "      <td>Delhi, Gurgaon / Gurugram</td>\n",
       "      <td>3-6 Years</td>\n",
       "      <td>3,60,000-5,80,000 INR Per Annum</td>\n",
       "      <td>Posted: 30+ days ago</td>\n",
       "      <td>We want a data scientist.......................</td>\n",
       "    </tr>\n",
       "    <tr>\n",
       "      <th>2</th>\n",
       "      <td>Structured Learning Assistance Consultants Ind...</td>\n",
       "      <td>Data Analyst / Fresher / Data Scientist / Grad...</td>\n",
       "      <td>Delhi, Gurgaon / Gurugram</td>\n",
       "      <td>0-5 Years</td>\n",
       "      <td>Not Specified</td>\n",
       "      <td>Posted: 15 days ago</td>\n",
       "      <td>Fresher Can Apply: Call @ 9999340492 | 8745833...</td>\n",
       "    </tr>\n",
       "    <tr>\n",
       "      <th>3</th>\n",
       "      <td>Structured Learning Assistance Consultants Ind...</td>\n",
       "      <td>Data Analyst – Fresher – Data Scientist – Grad...</td>\n",
       "      <td>Delhi, Gurgaon / Gurugram</td>\n",
       "      <td>0-5 Years</td>\n",
       "      <td>Not Specified</td>\n",
       "      <td>Posted: 30+ days ago</td>\n",
       "      <td>Fresher Can Apply: Call @ 7303778896 @ https:/...</td>\n",
       "    </tr>\n",
       "    <tr>\n",
       "      <th>4</th>\n",
       "      <td>Structured Learning Assistance Consultants Ind...</td>\n",
       "      <td>Data Analyst / Fresher / Data Scientist / Grad...</td>\n",
       "      <td>Delhi, Gurgaon / Gurugram</td>\n",
       "      <td>0-5 Years</td>\n",
       "      <td>Not Specified</td>\n",
       "      <td>Posted: 30+ days ago</td>\n",
       "      <td>Fresher Can Apply: Call @ 9999340492 | 8077828...</td>\n",
       "    </tr>\n",
       "  </tbody>\n",
       "</table>\n",
       "</div>"
      ],
      "text/plain": [
       "                                        Company Name  \\\n",
       "0  Structured Learning Assistance Consultants Ind...   \n",
       "1                          Company Name Confidential   \n",
       "2  Structured Learning Assistance Consultants Ind...   \n",
       "3  Structured Learning Assistance Consultants Ind...   \n",
       "4  Structured Learning Assistance Consultants Ind...   \n",
       "\n",
       "                                           Job Title  \\\n",
       "0  Data Analyst / Fresher / Data Scientist / Grad...   \n",
       "1                  Data Scientist - Machine Learning   \n",
       "2  Data Analyst / Fresher / Data Scientist / Grad...   \n",
       "3  Data Analyst – Fresher – Data Scientist – Grad...   \n",
       "4  Data Analyst / Fresher / Data Scientist / Grad...   \n",
       "\n",
       "                    Location Experience Required  \\\n",
       "0  Delhi, Gurgaon / Gurugram           0-5 Years   \n",
       "1  Delhi, Gurgaon / Gurugram           3-6 Years   \n",
       "2  Delhi, Gurgaon / Gurugram           0-5 Years   \n",
       "3  Delhi, Gurgaon / Gurugram           0-5 Years   \n",
       "4  Delhi, Gurgaon / Gurugram           0-5 Years   \n",
       "\n",
       "                      Compensation      Posting duration  \\\n",
       "0                    Not Specified  Posted: 14 hours ago   \n",
       "1  3,60,000-5,80,000 INR Per Annum  Posted: 30+ days ago   \n",
       "2                    Not Specified   Posted: 15 days ago   \n",
       "3                    Not Specified  Posted: 30+ days ago   \n",
       "4                    Not Specified  Posted: 30+ days ago   \n",
       "\n",
       "                                         Description  \n",
       "0  Fresher Can Apply: Call @ 8586804205 | 9999340492  \n",
       "1    We want a data scientist.......................  \n",
       "2  Fresher Can Apply: Call @ 9999340492 | 8745833...  \n",
       "3  Fresher Can Apply: Call @ 7303778896 @ https:/...  \n",
       "4  Fresher Can Apply: Call @ 9999340492 | 8077828...  "
      ]
     },
     "execution_count": 153,
     "metadata": {},
     "output_type": "execute_result"
    }
   ],
   "source": [
    "amonster = pd.DataFrame(list(zip(acompany, atitle, alocation, aexperience, asalary, aposted, adescription)), \n",
    "                       columns = ['Company Name', 'Job Title', 'Location', 'Experience Required', 'Compensation', 'Posting duration', 'Description'])\n",
    "amonster.head()"
   ]
  },
  {
   "cell_type": "code",
   "execution_count": 154,
   "metadata": {},
   "outputs": [
    {
     "data": {
      "text/plain": [
       "array(['Delhi, Gurgaon / Gurugram', 'Delhi, Noida', 'Delhi, Ghaziabad',\n",
       "       'Delhi', 'Delhi, Pune', 'Delhi, Hyderabad / Secunderabad',\n",
       "       'Bengaluru / Bangalore, Delhi', 'Ahmedabad, Delhi',\n",
       "       'Delhi, Mumbai', 'Delhi, Mumbai, Mumbai City, Navi Mumbai, Thane',\n",
       "       'Chennai, Delhi', 'Delhi, Faridabad', 'Delhi, Lucknow',\n",
       "       'Delhi, Vijayawada', 'Delhi, Mandya', 'Delhi, Kashipur',\n",
       "       'Delhi, Dehradun', 'Delhi, Thane', 'Delhi, Kolkata',\n",
       "       'Delhi, Mumbai City', 'Delhi, Guntur', 'Delhi, Navi Mumbai',\n",
       "       'Delhi, Gandhinagar'], dtype=object)"
      ]
     },
     "execution_count": 154,
     "metadata": {},
     "output_type": "execute_result"
    }
   ],
   "source": [
    "amonster['Location'].unique()"
   ]
  },
  {
   "cell_type": "code",
   "execution_count": 155,
   "metadata": {},
   "outputs": [
    {
     "data": {
      "text/plain": [
       "array(['Not Specified', '3,60,000-5,80,000 INR Per Annum',\n",
       "       '1,50,000-4,80,000 INR Per Annum',\n",
       "       '4,50,000-6,50,000 INR Per Annum',\n",
       "       '5,00,000-10,00,000 INR Per Annum',\n",
       "       '2,40,000-3,80,000 INR Per Annum',\n",
       "       '2,80,000-4,00,000 INR Per Annum',\n",
       "       '1,00,000-1,50,000 INR Per Annum',\n",
       "       '11,00,000-24,00,000 INR Per Annum',\n",
       "       '4,50,000-8,50,000 INR Per Annum',\n",
       "       '2,20,000-3,50,000 INR Per Annum',\n",
       "       '2,10,000-3,50,000 INR Per Annum',\n",
       "       '2,40,000-6,00,000 INR Per Annum',\n",
       "       '3,00,000-6,00,000 INR Per Annum',\n",
       "       '2,20,000-3,40,000 INR Per Annum',\n",
       "       '3,30,000-4,30,000 INR Per Annum',\n",
       "       '3,20,000-4,30,000 INR Per Annum',\n",
       "       '3,00,000-8,00,000 INR Per Annum',\n",
       "       '2,80,000-3,60,000 INR Per Annum',\n",
       "       '5,50,000-6,50,000 INR Per Annum',\n",
       "       '1,00,000-2,40,000 INR Per Annum',\n",
       "       '1,60,000-2,40,000 INR Per Annum',\n",
       "       '3,60,000-5,90,000 INR Per Annum',\n",
       "       '1,30,000-2,40,000 INR Per Annum',\n",
       "       '2,29,999-4,30,000 INR Per Annum',\n",
       "       '1,80,000-2,40,000 INR Per Annum',\n",
       "       '3,50,000-4,50,000 INR Per Annum',\n",
       "       '2,50,000-4,50,000 INR Per Annum',\n",
       "       '5,09,999-7,20,000 INR Per Annum',\n",
       "       '1,50,000-2,50,000 INR Per Annum',\n",
       "       '4,59,999-7,80,000 INR Per Annum',\n",
       "       '3,80,000-5,60,000 INR Per Annum',\n",
       "       '1,40,000-3,10,000 INR Per Annum',\n",
       "       '2,10,000-3,30,000 INR Per Annum',\n",
       "       '3,00,000-5,00,000 INR Per Annum',\n",
       "       '1,50,000-3,40,000 INR Per Annum',\n",
       "       '5,60,000-6,80,000 INR Per Annum',\n",
       "       '1,60,000-2,80,000 INR Per Annum',\n",
       "       '1,50,000-5,50,000 INR Per Annum',\n",
       "       '6,00,000-11,00,000 INR Per Annum',\n",
       "       '3,40,000-5,60,000 INR Per Annum',\n",
       "       '4,70,000-5,80,000 INR Per Annum',\n",
       "       '1,70,000-2,10,000 INR Per Annum',\n",
       "       '1,40,000-4,20,000 INR Per Annum',\n",
       "       '1,10,000-5,40,000 INR Per Annum',\n",
       "       '1,80,000-2,20,000 INR Per Annum',\n",
       "       '1,60,000-4,50,000 INR Per Annum'], dtype=object)"
      ]
     },
     "execution_count": 155,
     "metadata": {},
     "output_type": "execute_result"
    }
   ],
   "source": [
    "amonster['Compensation'].unique()"
   ]
  },
  {
   "cell_type": "code",
   "execution_count": null,
   "metadata": {},
   "outputs": [],
   "source": []
  }
 ],
 "metadata": {
  "kernelspec": {
   "display_name": "Python 3",
   "language": "python",
   "name": "python3"
  },
  "language_info": {
   "codemirror_mode": {
    "name": "ipython",
    "version": 3
   },
   "file_extension": ".py",
   "mimetype": "text/x-python",
   "name": "python",
   "nbconvert_exporter": "python",
   "pygments_lexer": "ipython3",
   "version": "3.8.5"
  }
 },
 "nbformat": 4,
 "nbformat_minor": 4
}
